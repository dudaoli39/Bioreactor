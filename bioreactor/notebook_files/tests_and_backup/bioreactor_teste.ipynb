{
 "cells": [
  {
   "cell_type": "markdown",
   "id": "06aa8843-d350-4234-839d-41084c5b6aa7",
   "metadata": {},
   "source": [
    "Create the default settings for a bio-reactor<BR>\n",
    "This Bio-Reactor will have a group of sensors that will generate random data in a certain defined range to emulate a reactor<BR>\n",
    "There will also be a group of associations between those sensors to bring more real-like situation<BR>\n",
    "Each sensor will generate a value each X seconds that are configurable by a CONFIG file<BR>"
   ]
  },
  {
   "cell_type": "code",
   "execution_count": 19,
   "id": "7849b81f-e059-422c-8560-0ed08bbb3251",
   "metadata": {},
   "outputs": [],
   "source": [
    "import json\n",
    "import random\n",
    "import time\n",
    "from datetime import datetime"
   ]
  },
  {
   "cell_type": "code",
   "execution_count": 12,
   "id": "ec226174-d7bf-44b6-9e6f-4f2e4dea3766",
   "metadata": {},
   "outputs": [],
   "source": [
    "bio_config_file = open(\"reactor_config/configurations.json\", \"r\")\n",
    "bio_config = json.load(bio_config_file)"
   ]
  },
  {
   "cell_type": "markdown",
   "id": "c5b0222a-53c4-44fb-8486-3e471606233c",
   "metadata": {},
   "source": [
    "CREATING THE MESSAGE TO BE DELIVERED"
   ]
  },
  {
   "cell_type": "code",
   "execution_count": 17,
   "id": "616ccc2a-4e68-4824-ae0a-cef9f6001f08",
   "metadata": {},
   "outputs": [],
   "source": [
    "def create_message(sensor, value, time_run):\n",
    "    message = {\n",
    "        \"timestamp\": time_run,\n",
    "        \"metadata\": {\"sensor\" : sensor},\n",
    "        \"value\": value\n",
    "    }\n",
    "    \n",
    "    return message\n",
    "    "
   ]
  },
  {
   "cell_type": "markdown",
   "id": "8a99b61b-7af3-4665-8f45-71db4aab969e",
   "metadata": {},
   "source": [
    "CREATING THE RELATIONSHIP FUNCTIONS\n",
    "TEMPERATURE WILL BE THE BASE"
   ]
  },
  {
   "cell_type": "code",
   "execution_count": 1,
   "id": "0a6f47ef-50c8-4e9a-a93c-b7e09a88a077",
   "metadata": {},
   "outputs": [],
   "source": [
    "def temperature_humidity(before, now):\n",
    "    variation = now - before\n",
    "    #1 -> json\n",
    "    #var -> y\n",
    "    #y = json x var\n",
    "    return variation * bio_config[\"TEMPERATURE_HUMIDITY\"]\n",
    "    "
   ]
  },
  {
   "cell_type": "code",
   "execution_count": 2,
   "id": "11807424-ad99-45fa-8ee2-d858f949aaa8",
   "metadata": {},
   "outputs": [],
   "source": [
    "def humidity_pressure(before, now):\n",
    "    variation = now - before\n",
    "    #1 -> json\n",
    "    #var -> y\n",
    "    #y = json x var\n",
    "    return variation * bio_config[\"HUMIDITY_PRESSURE\"]\n",
    "    "
   ]
  },
  {
   "cell_type": "code",
   "execution_count": 6,
   "id": "ef396c18-b578-4c48-bd3a-fe8e40c06d23",
   "metadata": {},
   "outputs": [],
   "source": [
    "def temperature_oxigen(before, now):\n",
    "    variation = now - before\n",
    "    #1 -> json\n",
    "    #var -> y\n",
    "    #y = json x var\n",
    "    return variation * bio_config[\"TEMPERATURE_OXIGEN\"]\n",
    "    "
   ]
  },
  {
   "cell_type": "code",
   "execution_count": 7,
   "id": "8eafd6d2-1ab5-4ede-a66f-4644a74ee9ff",
   "metadata": {},
   "outputs": [],
   "source": [
    "def pressure_oxigen(before, now):\n",
    "    variation = now - before\n",
    "    #1 -> json\n",
    "    #var -> y\n",
    "    #y = json x var\n",
    "    return variation * bio_config[\"PRESSURE_OXIGEN\"]\n",
    "    "
   ]
  },
  {
   "cell_type": "markdown",
   "id": "46a7763b-7266-47dd-a5e0-f698d1abc99e",
   "metadata": {},
   "source": [
    "CREATING THE TEMPERATURE SENSOR"
   ]
  },
  {
   "cell_type": "markdown",
   "id": "add3fba9-8961-4867-ba68-121d862a6596",
   "metadata": {},
   "source": [
    "SETTING UP RANDOM INITIAL VARIABLES FOR THE SENSORS"
   ]
  },
  {
   "cell_type": "code",
   "execution_count": 13,
   "id": "1ea4f819-4dfe-4b1d-b9c5-30fa74667d21",
   "metadata": {},
   "outputs": [],
   "source": [
    "temperature = random.uniform(bio_config[\"TEMPERATURE_MIN\"], bio_config[\"TEMPERATURE_MAX\"])"
   ]
  },
  {
   "cell_type": "code",
   "execution_count": 14,
   "id": "ef816dce-b76c-4880-ba28-01a4c8a58de1",
   "metadata": {},
   "outputs": [],
   "source": [
    "pressure = random.uniform(bio_config[\"PRESSURE_MIN\"], bio_config[\"PRESSURE_MAX\"])"
   ]
  },
  {
   "cell_type": "code",
   "execution_count": 15,
   "id": "3cfa3553-3d2c-4a66-a616-f5b1fa7ecabf",
   "metadata": {},
   "outputs": [],
   "source": [
    "humidity = random.uniform(bio_config[\"HUMIDITY_MIN\"], bio_config[\"HUMIDITY_MAX\"])"
   ]
  },
  {
   "cell_type": "code",
   "execution_count": 16,
   "id": "15bcf2ec-0e24-4765-8ca5-05d737ff7884",
   "metadata": {},
   "outputs": [],
   "source": [
    "oxigen = random.uniform(bio_config[\"OXIGEN_MIN\"], bio_config[\"OXIGEN_MAX\"])"
   ]
  },
  {
   "cell_type": "code",
   "execution_count": null,
   "id": "a7ea3d28-d717-4989-bd8e-416db1ea6e6c",
   "metadata": {},
   "outputs": [],
   "source": []
  },
  {
   "cell_type": "markdown",
   "id": "fcc3e232-e833-4376-a06a-aaae59c9595d",
   "metadata": {},
   "source": [
    "RUNNING THE BIOREACTOR"
   ]
  },
  {
   "cell_type": "code",
   "execution_count": 21,
   "id": "c0bb0226-b811-4958-ae00-111c375f6f81",
   "metadata": {},
   "outputs": [
    {
     "name": "stdout",
     "output_type": "stream",
     "text": [
      "\b1 - RUN\n",
      "{'timestamp': '2025-02-16 01:20:27.443187', 'metadata': {'sensor': 'temperature'}, 'value': 33.33481541565451}\n",
      "{'timestamp': '2025-02-16 01:20:27.443187', 'metadata': {'sensor': 'humidity'}, 'value': 0.8329905326823851}\n",
      "{'timestamp': '2025-02-16 01:20:27.443187', 'metadata': {'sensor': 'pressure'}, 'value': 1.1568981156607503}\n",
      "{'timestamp': '2025-02-16 01:20:27.443187', 'metadata': {'sensor': 'oxigen'}, 'value': 0.3136382876318744}\n",
      "\b2 - RUN\n",
      "{'timestamp': '2025-02-16 01:20:42.443596', 'metadata': {'sensor': 'temperature'}, 'value': 33.30630190812377}\n",
      "{'timestamp': '2025-02-16 01:20:42.443596', 'metadata': {'sensor': 'humidity'}, 'value': 0.83279093812967}\n",
      "{'timestamp': '2025-02-16 01:20:42.443596', 'metadata': {'sensor': 'pressure'}, 'value': 1.1568781562054788}\n",
      "{'timestamp': '2025-02-16 01:20:42.443596', 'metadata': {'sensor': 'oxigen'}, 'value': 0.3138621186659907}\n",
      "\b3 - RUN\n",
      "{'timestamp': '2025-02-16 01:20:57.444590', 'metadata': {'sensor': 'temperature'}, 'value': 33.30511875264225}\n",
      "{'timestamp': '2025-02-16 01:20:57.444590', 'metadata': {'sensor': 'humidity'}, 'value': 0.8327826560412993}\n",
      "{'timestamp': '2025-02-16 01:20:57.444590', 'metadata': {'sensor': 'pressure'}, 'value': 1.1568773279966418}\n",
      "{'timestamp': '2025-02-16 01:20:57.444590', 'metadata': {'sensor': 'oxigen'}, 'value': 0.3138714064365206}\n",
      "\b4 - RUN\n",
      "{'timestamp': '2025-02-16 01:21:12.445838', 'metadata': {'sensor': 'temperature'}, 'value': 33.69742645735809}\n",
      "{'timestamp': '2025-02-16 01:21:12.445838', 'metadata': {'sensor': 'humidity'}, 'value': 0.8355288099743102}\n",
      "{'timestamp': '2025-02-16 01:21:12.445838', 'metadata': {'sensor': 'pressure'}, 'value': 1.1571519433899429}\n",
      "{'timestamp': '2025-02-16 01:21:12.445838', 'metadata': {'sensor': 'oxigen'}, 'value': 0.31079179095450127}\n",
      "\b5 - RUN\n",
      "{'timestamp': '2025-02-16 01:21:27.447176', 'metadata': {'sensor': 'temperature'}, 'value': 33.321924587537765}\n",
      "{'timestamp': '2025-02-16 01:21:27.447176', 'metadata': {'sensor': 'humidity'}, 'value': 0.832900296885568}\n",
      "{'timestamp': '2025-02-16 01:21:27.447176', 'metadata': {'sensor': 'pressure'}, 'value': 1.1568890920810686}\n",
      "{'timestamp': '2025-02-16 01:21:27.447176', 'metadata': {'sensor': 'oxigen'}, 'value': 0.31373948063259083}\n"
     ]
    }
   ],
   "source": [
    "for repeat in range(5):\n",
    "    print(str(repeat+1)+\" - RUN\")\n",
    "    \n",
    "    time_run = str(datetime.now())\n",
    "    \n",
    "    new_temperature = temperature + random.uniform(-bio_config[\"RANDOM_IMPACT\"], bio_config[\"RANDOM_IMPACT\"])\n",
    "    new_humidity = humidity + temperature_humidity(temperature, new_temperature)\n",
    "    new_pressure = pressure + humidity_pressure(humidity, new_humidity)\n",
    "    new_oxigen = oxigen + (temperature_oxigen(temperature, new_temperature) + pressure_oxigen(new_pressure, pressure))/2\n",
    "\n",
    "    temperature = new_temperature\n",
    "    humidity = new_humidity\n",
    "    pressure = new_pressure\n",
    "    oxigen = new_oxigen\n",
    "\n",
    "    message = create_message(\"temperature\", temperature, time_run)\n",
    "    print(message)\n",
    "    message = create_message(\"humidity\", humidity, time_run)\n",
    "    print(message)\n",
    "    message = create_message(\"pressure\", pressure, time_run)\n",
    "    print(message)\n",
    "    message = create_message(\"oxigen\", oxigen, time_run)\n",
    "    print(message)\n",
    "\n",
    "    time.sleep(bio_config[\"FREQUENCE\"])"
   ]
  },
  {
   "cell_type": "code",
   "execution_count": null,
   "id": "d9533705-5263-4566-a1ef-023aa767ce23",
   "metadata": {},
   "outputs": [],
   "source": []
  }
 ],
 "metadata": {
  "kernelspec": {
   "display_name": "Python 3 (ipykernel)",
   "language": "python",
   "name": "python3"
  },
  "language_info": {
   "codemirror_mode": {
    "name": "ipython",
    "version": 3
   },
   "file_extension": ".py",
   "mimetype": "text/x-python",
   "name": "python",
   "nbconvert_exporter": "python",
   "pygments_lexer": "ipython3",
   "version": "3.12.7"
  }
 },
 "nbformat": 4,
 "nbformat_minor": 5
}
