{
 "cells": [
  {
   "cell_type": "markdown",
   "id": "c7164857-8dd0-49e5-a1aa-a9177b322aee",
   "metadata": {},
   "source": [
    "https://www.mongodb.com/docs/rapid/core/timeseries/timeseries-procedures/ <br>\n",
    "https://www.w3schools.com/python/python_mongodb_insert.asp <br>\n",
    "https://www.mongodb.com/docs/languages/python/pymongo-arrow-driver/current/quick-start/#std-label-pymongo-arrow-quick-start"
   ]
  },
  {
   "cell_type": "code",
   "execution_count": 5,
   "id": "cfe0c310-db5d-419f-9b77-0961b5a08f60",
   "metadata": {},
   "outputs": [],
   "source": [
    "from pymongo import MongoClient\n",
    "from datetime import datetime"
   ]
  },
  {
   "cell_type": "code",
   "execution_count": 2,
   "id": "7cb256ab-78a6-4060-8dd8-72afa0230108",
   "metadata": {},
   "outputs": [],
   "source": [
    "# Connect to MongoDB\n",
    "client = MongoClient('mongodb://localhost:27017/')"
   ]
  },
  {
   "cell_type": "code",
   "execution_count": 3,
   "id": "aeb5fab1-ebc1-4c02-bb26-61fa6a9374b3",
   "metadata": {},
   "outputs": [],
   "source": [
    "# Select the database and collection\n",
    "db = client['testeDB']\n",
    "collection = db['testeTS']"
   ]
  },
  {
   "cell_type": "code",
   "execution_count": 8,
   "id": "abb5d7f1-4fe6-48ff-a3d7-83e5ae5995c6",
   "metadata": {},
   "outputs": [
    {
     "name": "stdout",
     "output_type": "stream",
     "text": [
      "2025-02-15T21:53:31.494116\n",
      "2025-02-15 21:53:31.494116\n"
     ]
    }
   ],
   "source": [
    "print(datetime.now().isoformat())\n",
    "print(str(datetime.now()))"
   ]
  },
  {
   "cell_type": "code",
   "execution_count": 11,
   "id": "985240ba-e562-4f09-bdb9-cac3d7720283",
   "metadata": {},
   "outputs": [],
   "source": [
    "# Document to be inserted\n",
    "document = {\n",
    "    \"timestamp\": datetime.now(),\n",
    "    \"metadata\": {\"sensor\" : \"temperature\"},\n",
    "    \"value\": 47.8\n",
    "}"
   ]
  },
  {
   "cell_type": "code",
   "execution_count": 12,
   "id": "c9731afd-7035-4924-a20f-3bee51c2e330",
   "metadata": {},
   "outputs": [],
   "source": [
    "# Insert the document\n",
    "result = collection.insert_one(document)"
   ]
  },
  {
   "cell_type": "code",
   "execution_count": 13,
   "id": "4541e2c0-8a10-464f-bb8d-49df8ec88684",
   "metadata": {},
   "outputs": [
    {
     "name": "stdout",
     "output_type": "stream",
     "text": [
      "Inserted document ID: 67b100c617a44de6528177c1\n"
     ]
    }
   ],
   "source": [
    "# Print the inserted document's ID\n",
    "print(\"Inserted document ID:\", result.inserted_id)"
   ]
  },
  {
   "cell_type": "code",
   "execution_count": 17,
   "id": "03be5451-a0ad-48a7-b543-9f9c1cc91a48",
   "metadata": {},
   "outputs": [],
   "source": [
    "documentArray = [\n",
    "    {\n",
    "    \"timestamp\": datetime(2025, 2, 15, 22, 5, 12),\n",
    "    \"metadata\": {\"sensor\" : \"temperature\"},\n",
    "    \"value\": 48.0\n",
    "    },\n",
    "    {\n",
    "    \"timestamp\": datetime(2025, 2, 15, 22, 5, 23),\n",
    "    \"metadata\": {\"sensor\" : \"temperature\"},\n",
    "    \"value\": 48.7\n",
    "    },\n",
    "    {\n",
    "    \"timestamp\": datetime(2025, 2, 15, 22, 5, 34),\n",
    "    \"metadata\": {\"sensor\" : \"temperature\"},\n",
    "    \"value\": 49.9\n",
    "    },\n",
    "    {\n",
    "    \"timestamp\": datetime(2025, 2, 15, 22, 5, 45),\n",
    "    \"metadata\": {\"sensor\" : \"temperature\"},\n",
    "    \"value\": 46.6\n",
    "    }\n",
    "]"
   ]
  },
  {
   "cell_type": "code",
   "execution_count": 18,
   "id": "f339dd69-4050-4d3b-933f-49d10b1805d4",
   "metadata": {},
   "outputs": [],
   "source": [
    "# Insert the documents\n",
    "result = collection.insert_many(documentArray)"
   ]
  },
  {
   "cell_type": "code",
   "execution_count": 19,
   "id": "51bc5afa-34b6-4c72-b4f5-7f9f67874146",
   "metadata": {},
   "outputs": [
    {
     "name": "stdout",
     "output_type": "stream",
     "text": [
      "Inserted document IDs: [ObjectId('67b1021b17a44de6528177c2'), ObjectId('67b1021b17a44de6528177c3'), ObjectId('67b1021b17a44de6528177c4'), ObjectId('67b1021b17a44de6528177c5')]\n"
     ]
    }
   ],
   "source": [
    "# Print the inserted documents' IDs\n",
    "print(\"Inserted document IDs:\", result.inserted_ids)"
   ]
  },
  {
   "cell_type": "code",
   "execution_count": 23,
   "id": "fa000f50-c164-4aeb-a7a9-33eb6c3746ee",
   "metadata": {},
   "outputs": [],
   "source": [
    "# Query time series data\n",
    "start_time = datetime(2025, 2, 15, 21, 0)\n",
    "end_time = datetime(2025, 2, 15, 22, 5)"
   ]
  },
  {
   "cell_type": "code",
   "execution_count": 25,
   "id": "7fc40039-f3c7-47f7-8c8f-057a44313e5a",
   "metadata": {},
   "outputs": [],
   "source": [
    "query = {\n",
    "    \"timestamp\": {'$gte': start_time, '$lte': end_time},\n",
    "    \"metadata.sensor\": \"temperature\" \n",
    "}\n",
    "\n",
    "results = collection.find(query)\n"
   ]
  },
  {
   "cell_type": "code",
   "execution_count": 26,
   "id": "ba1bef3b-e84a-44bf-98e0-29cc82518563",
   "metadata": {},
   "outputs": [
    {
     "name": "stdout",
     "output_type": "stream",
     "text": [
      "{'timestamp': datetime.datetime(2025, 2, 15, 22, 1, 56, 301000), 'metadata': {'sensor': 'temperature'}, '_id': ObjectId('67b100c617a44de6528177c1'), 'value': 47.8}\n"
     ]
    }
   ],
   "source": [
    "for record in results:\n",
    "    print(record)"
   ]
  },
  {
   "cell_type": "code",
   "execution_count": 27,
   "id": "d509455e-679d-4baf-9ecf-e71063095048",
   "metadata": {},
   "outputs": [],
   "source": [
    "# Query time series data\n",
    "start_time = datetime(2025, 2, 15, 22, 5, 20)\n",
    "end_time = datetime(2025, 2, 15, 22, 5, 40)"
   ]
  },
  {
   "cell_type": "code",
   "execution_count": 28,
   "id": "b6d4555e-017e-44bd-a812-9b8e05b57482",
   "metadata": {},
   "outputs": [],
   "source": [
    "query = {\n",
    "    \"timestamp\": {'$gte': start_time, '$lte': end_time},\n",
    "    \"metadata.sensor\": \"temperature\" \n",
    "}\n",
    "\n",
    "results = collection.find(query)"
   ]
  },
  {
   "cell_type": "code",
   "execution_count": 29,
   "id": "d899f3fd-d100-4dfb-b991-d3f92b0c8b3d",
   "metadata": {},
   "outputs": [
    {
     "name": "stdout",
     "output_type": "stream",
     "text": [
      "{'timestamp': datetime.datetime(2025, 2, 15, 22, 5, 23), 'metadata': {'sensor': 'temperature'}, '_id': ObjectId('67b1021b17a44de6528177c3'), 'value': 48.7}\n",
      "{'timestamp': datetime.datetime(2025, 2, 15, 22, 5, 34), 'metadata': {'sensor': 'temperature'}, '_id': ObjectId('67b1021b17a44de6528177c4'), 'value': 49.9}\n"
     ]
    }
   ],
   "source": [
    "for record in results:\n",
    "    print(record)"
   ]
  },
  {
   "cell_type": "code",
   "execution_count": null,
   "id": "b7a4df8b-5f4c-446a-a378-8c62ee26330f",
   "metadata": {},
   "outputs": [],
   "source": []
  }
 ],
 "metadata": {
  "kernelspec": {
   "display_name": "Python 3 (ipykernel)",
   "language": "python",
   "name": "python3"
  },
  "language_info": {
   "codemirror_mode": {
    "name": "ipython",
    "version": 3
   },
   "file_extension": ".py",
   "mimetype": "text/x-python",
   "name": "python",
   "nbconvert_exporter": "python",
   "pygments_lexer": "ipython3",
   "version": "3.12.7"
  }
 },
 "nbformat": 4,
 "nbformat_minor": 5
}
