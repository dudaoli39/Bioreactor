{
 "cells": [
  {
   "cell_type": "code",
   "execution_count": 1,
   "id": "cd62a078-b677-4b47-bd2c-78e5f041a4fc",
   "metadata": {},
   "outputs": [],
   "source": [
    "from confluent_kafka import Consumer, KafkaException\n"
   ]
  },
  {
   "cell_type": "code",
   "execution_count": 2,
   "id": "78261913-1b09-41ba-9764-76e3d73bcd3a",
   "metadata": {},
   "outputs": [],
   "source": [
    "\n",
    "# Kafka configuration\n",
    "conf = {\n",
    "    'bootstrap.servers': 'localhost:9092',\n",
    "    'group.id': 'my_group',\n",
    "    'auto.offset.reset': 'earliest'\n",
    "}\n",
    "\n"
   ]
  },
  {
   "cell_type": "code",
   "execution_count": 3,
   "id": "e2eec358-8f5c-457a-95bd-eb33c9fad11f",
   "metadata": {},
   "outputs": [],
   "source": [
    "# Create Consumer instance\n",
    "consumer = Consumer(conf)\n",
    "\n"
   ]
  },
  {
   "cell_type": "code",
   "execution_count": 4,
   "id": "24ccefa5-7b77-4903-97ba-471ab7b49edc",
   "metadata": {},
   "outputs": [],
   "source": [
    "# Subscribe to topic\n",
    "consumer.subscribe(['your_topic_name'])\n",
    "\n"
   ]
  },
  {
   "cell_type": "code",
   "execution_count": 5,
   "id": "7373f35c-f1f8-46f5-a2aa-aa434ff7e476",
   "metadata": {},
   "outputs": [
    {
     "name": "stdout",
     "output_type": "stream",
     "text": [
      "Received message: Hello, Kafka!\n"
     ]
    }
   ],
   "source": [
    "try:\n",
    "    while True:\n",
    "        msg = consumer.poll(timeout=1.0)\n",
    "        if msg is None:\n",
    "            continue\n",
    "        if msg.error():\n",
    "            if msg.error().code() == KafkaError._PARTITION_EOF:\n",
    "                # End of partition event\n",
    "                print(f\"Reached end of partition: {msg.topic()} [{msg.partition()}] at offset {msg.offset()}\")\n",
    "            elif msg.error():\n",
    "                raise KafkaException(msg.error())\n",
    "        else:\n",
    "            # Proper message\n",
    "            print(f\"Received message: {msg.value().decode('utf-8')}\")\n",
    "\n",
    "except KeyboardInterrupt:\n",
    "    pass\n",
    "finally:\n",
    "    # Close down consumer to commit final offsets.\n",
    "    consumer.close()\n"
   ]
  },
  {
   "cell_type": "code",
   "execution_count": null,
   "id": "550f913e-5f31-4f38-9c62-f7c4bb570a09",
   "metadata": {},
   "outputs": [],
   "source": []
  }
 ],
 "metadata": {
  "kernelspec": {
   "display_name": "Python 3 (ipykernel)",
   "language": "python",
   "name": "python3"
  },
  "language_info": {
   "codemirror_mode": {
    "name": "ipython",
    "version": 3
   },
   "file_extension": ".py",
   "mimetype": "text/x-python",
   "name": "python",
   "nbconvert_exporter": "python",
   "pygments_lexer": "ipython3",
   "version": "3.12.7"
  }
 },
 "nbformat": 4,
 "nbformat_minor": 5
}
