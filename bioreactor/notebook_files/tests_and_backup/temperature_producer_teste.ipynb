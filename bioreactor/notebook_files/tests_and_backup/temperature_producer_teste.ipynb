{
 "cells": [
  {
   "cell_type": "code",
   "execution_count": 1,
   "id": "2f2542b3-f017-4430-9603-fe0833d253e3",
   "metadata": {},
   "outputs": [],
   "source": [
    "from kafka import KafkaProducer\n",
    "from datetime import datetime\n",
    "import json\n",
    "import random\n",
    "import time"
   ]
  },
  {
   "cell_type": "code",
   "execution_count": 2,
   "id": "bcef60c4-211a-4d97-9076-103fd6cefaf0",
   "metadata": {},
   "outputs": [],
   "source": [
    "bio_config_file = open(\"reactor_config/configurations.json\", \"r\")\n",
    "bio_config = json.load(bio_config_file)"
   ]
  },
  {
   "cell_type": "code",
   "execution_count": 25,
   "id": "c5cd4c85-2854-4bff-bf92-80516e2bc99c",
   "metadata": {},
   "outputs": [],
   "source": [
    "# Initialize the Kafka producer\n",
    "producer = KafkaProducer(\n",
    "    bootstrap_servers='localhost:9092',\n",
    "    value_serializer=lambda v: json.dumps(v).encode('utf-8'))"
   ]
  },
  {
   "cell_type": "code",
   "execution_count": 26,
   "id": "36c6645f-99a5-4d79-8d89-6f636b647e45",
   "metadata": {},
   "outputs": [],
   "source": [
    "# Define the topic and message\n",
    "topic = 'temperature'"
   ]
  },
  {
   "cell_type": "code",
   "execution_count": 27,
   "id": "15edc2ae-5991-4eea-bc98-285e761fc215",
   "metadata": {},
   "outputs": [
    {
     "name": "stdout",
     "output_type": "stream",
     "text": [
      "Temperature sensor activate at 2025-02-15 23:40:34.199137\n"
     ]
    }
   ],
   "source": [
    "print(\"Temperature sensor activate at \"+ str(datetime.now()))"
   ]
  },
  {
   "cell_type": "code",
   "execution_count": 28,
   "id": "de1beee5-916f-4584-9131-3dbafd8632e2",
   "metadata": {},
   "outputs": [],
   "source": [
    "temp_value = 52.8"
   ]
  },
  {
   "cell_type": "code",
   "execution_count": 29,
   "id": "124fd202-003f-4ad2-a57e-a79141ff24d6",
   "metadata": {},
   "outputs": [
    {
     "name": "stdout",
     "output_type": "stream",
     "text": [
      "-- message 1 sent...\n",
      "-- message 2 sent...\n",
      "-- message 3 sent...\n",
      "-- message 4 sent...\n",
      "-- message 5 sent...\n",
      "-- message 6 sent...\n",
      "-- message 7 sent...\n",
      "-- message 8 sent...\n",
      "-- message 9 sent...\n",
      "-- message 10 sent...\n"
     ]
    }
   ],
   "source": [
    "\n",
    "for repeat in range(10):\n",
    "    temp_value = temp_value + random.uniform(-0.5, 0.5)\n",
    "\n",
    "    message = {\n",
    "        \"timestamp\": str(datetime.now()),\n",
    "        \"metadata\": {\"sensor\" : \"temperature\"},\n",
    "        \"value\": temp_value\n",
    "    }\n",
    "\n",
    "    # Send the message\n",
    "    producer.send(topic, message)\n",
    "    # Ensure all messages are sent\n",
    "    producer.flush()\n",
    "    print(\"-- message \" + str(repeat+1) + \" sent...\")\n",
    "    \n",
    "    time.sleep(bio_config[\"FREQUENCE\"])"
   ]
  },
  {
   "cell_type": "code",
   "execution_count": 30,
   "id": "a55885f6-b4b7-4e9c-b02b-eb898a2111c0",
   "metadata": {},
   "outputs": [
    {
     "name": "stdout",
     "output_type": "stream",
     "text": [
      "Temperature sensor deactivate at 2025-02-15 23:43:04.894155\n"
     ]
    }
   ],
   "source": [
    "#close the producer\n",
    "producer.close()\n",
    "\n",
    "print(\"Temperature sensor deactivate at \"+ str(datetime.now()))\n"
   ]
  },
  {
   "cell_type": "code",
   "execution_count": null,
   "id": "c19fca24-38e6-49a4-bffa-5ab697e5ee41",
   "metadata": {},
   "outputs": [],
   "source": []
  }
 ],
 "metadata": {
  "kernelspec": {
   "display_name": "Python 3 (ipykernel)",
   "language": "python",
   "name": "python3"
  },
  "language_info": {
   "codemirror_mode": {
    "name": "ipython",
    "version": 3
   },
   "file_extension": ".py",
   "mimetype": "text/x-python",
   "name": "python",
   "nbconvert_exporter": "python",
   "pygments_lexer": "ipython3",
   "version": "3.12.7"
  }
 },
 "nbformat": 4,
 "nbformat_minor": 5
}
