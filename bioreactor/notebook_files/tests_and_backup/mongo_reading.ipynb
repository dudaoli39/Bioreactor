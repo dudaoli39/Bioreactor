{
 "cells": [
  {
   "cell_type": "markdown",
   "id": "c7164857-8dd0-49e5-a1aa-a9177b322aee",
   "metadata": {},
   "source": [
    "https://www.mongodb.com/docs/rapid/core/timeseries/timeseries-procedures/ <br>\n",
    "https://www.w3schools.com/python/python_mongodb_insert.asp <br>\n",
    "https://www.mongodb.com/docs/languages/python/pymongo-arrow-driver/current/quick-start/#std-label-pymongo-arrow-quick-start"
   ]
  },
  {
   "cell_type": "code",
   "execution_count": 62,
   "id": "cfe0c310-db5d-419f-9b77-0961b5a08f60",
   "metadata": {},
   "outputs": [],
   "source": [
    "from pymongo import MongoClient\n",
    "from datetime import datetime\n",
    "import json"
   ]
  },
  {
   "cell_type": "code",
   "execution_count": 63,
   "id": "64c07434-eedf-44f0-9d2c-c1ea5fa3fa0d",
   "metadata": {},
   "outputs": [],
   "source": [
    "connections_file = open(\"reactor_config/connections.json\", \"r\")\n",
    "connections = json.load(connections_file)"
   ]
  },
  {
   "cell_type": "code",
   "execution_count": 64,
   "id": "7cb256ab-78a6-4060-8dd8-72afa0230108",
   "metadata": {},
   "outputs": [],
   "source": [
    "# Connect to MongoDB\n",
    "client = MongoClient(connections[\"SERVER\"])"
   ]
  },
  {
   "cell_type": "code",
   "execution_count": 65,
   "id": "f6696295-714f-41ac-89d1-cbf865c55da9",
   "metadata": {},
   "outputs": [],
   "source": [
    "# Select the database and collection\n",
    "db = client[connections[\"DATABASE\"]]"
   ]
  },
  {
   "cell_type": "code",
   "execution_count": 66,
   "id": "3ebf5121-138a-4ca5-80cd-19d8b297fa01",
   "metadata": {},
   "outputs": [],
   "source": [
    "topic = 3\n",
    "\n",
    "reactor_name = \"02\"\n",
    "\n",
    "start = \"2025-02-16 11:28:00\"\n",
    "finish = \"2025-02-16 11:30:00\""
   ]
  },
  {
   "cell_type": "code",
   "execution_count": 67,
   "id": "bec05c9e-386c-4816-9d03-343b18818853",
   "metadata": {},
   "outputs": [],
   "source": [
    "query_topics = {\n",
    "    1: \"temperature\",\n",
    "    2: \"pressure\",\n",
    "    3: \"humidity\",\n",
    "    4: \"oxigen\"\n",
    "}\n",
    "query_sensors = {\n",
    "    \"temperature\": \"s_temp_\"+reactor_name,\n",
    "    \"pressure\": \"s_pres_\"+reactor_name,\n",
    "    \"humidity\": \"s_humi_\"+reactor_name,\n",
    "    \"oxigen\": \"s_oxig_\"+reactor_name,\n",
    "}"
   ]
  },
  {
   "cell_type": "code",
   "execution_count": 68,
   "id": "aeb5fab1-ebc1-4c02-bb26-61fa6a9374b3",
   "metadata": {},
   "outputs": [],
   "source": [
    "collection = db[query_topics[topic]]"
   ]
  },
  {
   "cell_type": "code",
   "execution_count": 69,
   "id": "fa000f50-c164-4aeb-a7a9-33eb6c3746ee",
   "metadata": {},
   "outputs": [],
   "source": [
    "# Query time series data\n",
    "start_time = datetime.strptime(start, \"%Y-%m-%d %H:%M:%S\")\n",
    "end_time = datetime.strptime(finish, \"%Y-%m-%d %H:%M:%S\")"
   ]
  },
  {
   "cell_type": "code",
   "execution_count": 70,
   "id": "7fc40039-f3c7-47f7-8c8f-057a44313e5a",
   "metadata": {},
   "outputs": [],
   "source": [
    "query = {\n",
    "    \"timestamp\": {'$gte': start_time, '$lte': end_time},\n",
    "    \"metadata.sensor\": query_sensors[query_topics[topic]]\n",
    "}\n",
    "\n",
    "results = collection.find(query)\n"
   ]
  },
  {
   "cell_type": "code",
   "execution_count": 71,
   "id": "ba1bef3b-e84a-44bf-98e0-29cc82518563",
   "metadata": {},
   "outputs": [
    {
     "name": "stdout",
     "output_type": "stream",
     "text": [
      "{'timestamp': datetime.datetime(2025, 2, 16, 11, 28, 22, 579000), 'metadata': {'sensor': 's_humi_02'}, '_id': ObjectId('67b1bdc64c6e5cf73fbda904'), 'value': 0.9348983223636562}\n",
      "{'timestamp': datetime.datetime(2025, 2, 16, 11, 28, 23, 952000), 'metadata': {'sensor': 's_humi_02'}, '_id': ObjectId('67b1bdc74c6e5cf73fbda906'), 'value': 0.9340783171394311}\n",
      "{'timestamp': datetime.datetime(2025, 2, 16, 11, 28, 24, 970000), 'metadata': {'sensor': 's_humi_02'}, '_id': ObjectId('67b1bdc84c6e5cf73fbda908'), 'value': 0.9343157597307864}\n",
      "{'timestamp': datetime.datetime(2025, 2, 16, 11, 28, 26, 15000), 'metadata': {'sensor': 's_humi_02'}, '_id': ObjectId('67b1bdca4c6e5cf73fbda90a'), 'value': 0.9321972095798281}\n",
      "{'timestamp': datetime.datetime(2025, 2, 16, 11, 28, 27, 39000), 'metadata': {'sensor': 's_humi_02'}, '_id': ObjectId('67b1bdcb4c6e5cf73fbda90c'), 'value': 0.9297712477154472}\n",
      "{'timestamp': datetime.datetime(2025, 2, 16, 11, 28, 28, 56000), 'metadata': {'sensor': 's_humi_02'}, '_id': ObjectId('67b1bdcc4c6e5cf73fbda90e'), 'value': 0.9315244925859854}\n",
      "{'timestamp': datetime.datetime(2025, 2, 16, 11, 28, 29, 93000), 'metadata': {'sensor': 's_humi_02'}, '_id': ObjectId('67b1bdcd4c6e5cf73fbda910'), 'value': 0.9281927483551412}\n",
      "{'timestamp': datetime.datetime(2025, 2, 16, 11, 28, 30, 138000), 'metadata': {'sensor': 's_humi_02'}, '_id': ObjectId('67b1bdce4c6e5cf73fbda912'), 'value': 0.9282677791558124}\n",
      "{'timestamp': datetime.datetime(2025, 2, 16, 11, 28, 31, 182000), 'metadata': {'sensor': 's_humi_02'}, '_id': ObjectId('67b1bdcf4c6e5cf73fbda914'), 'value': 0.9248691351171642}\n",
      "{'timestamp': datetime.datetime(2025, 2, 16, 11, 28, 32, 215000), 'metadata': {'sensor': 's_humi_02'}, '_id': ObjectId('67b1bdd04c6e5cf73fbda916'), 'value': 0.925914954295569}\n",
      "{'timestamp': datetime.datetime(2025, 2, 16, 11, 28, 33, 239000), 'metadata': {'sensor': 's_humi_02'}, '_id': ObjectId('67b1bdd14c6e5cf73fbda918'), 'value': 0.9260005181764409}\n",
      "{'timestamp': datetime.datetime(2025, 2, 16, 11, 28, 34, 266000), 'metadata': {'sensor': 's_humi_02'}, '_id': ObjectId('67b1bdd24c6e5cf73fbda91a'), 'value': 0.9277748833894576}\n",
      "{'timestamp': datetime.datetime(2025, 2, 16, 11, 28, 35, 289000), 'metadata': {'sensor': 's_humi_02'}, '_id': ObjectId('67b1bdd34c6e5cf73fbda91c'), 'value': 0.9259204805140715}\n",
      "{'timestamp': datetime.datetime(2025, 2, 16, 11, 28, 36, 324000), 'metadata': {'sensor': 's_humi_02'}, '_id': ObjectId('67b1bdd44c6e5cf73fbda91e'), 'value': 0.9284464744990433}\n",
      "{'timestamp': datetime.datetime(2025, 2, 16, 11, 28, 37, 341000), 'metadata': {'sensor': 's_humi_02'}, '_id': ObjectId('67b1bdd54c6e5cf73fbda920'), 'value': 0.926857969744987}\n",
      "{'timestamp': datetime.datetime(2025, 2, 16, 11, 28, 38, 367000), 'metadata': {'sensor': 's_humi_02'}, '_id': ObjectId('67b1bdd64c6e5cf73fbda922'), 'value': 0.9242299054132905}\n",
      "{'timestamp': datetime.datetime(2025, 2, 16, 11, 28, 39, 385000), 'metadata': {'sensor': 's_humi_02'}, '_id': ObjectId('67b1bdd74c6e5cf73fbda924'), 'value': 0.9256515327349271}\n",
      "{'timestamp': datetime.datetime(2025, 2, 16, 11, 28, 40, 427000), 'metadata': {'sensor': 's_humi_02'}, '_id': ObjectId('67b1bdd84c6e5cf73fbda926'), 'value': 0.9250865505031316}\n",
      "{'timestamp': datetime.datetime(2025, 2, 16, 11, 28, 41, 459000), 'metadata': {'sensor': 's_humi_02'}, '_id': ObjectId('67b1bdd94c6e5cf73fbda928'), 'value': 0.9243032680546855}\n",
      "{'timestamp': datetime.datetime(2025, 2, 16, 11, 28, 42, 502000), 'metadata': {'sensor': 's_humi_02'}, '_id': ObjectId('67b1bdda4c6e5cf73fbda92a'), 'value': 0.9243570435298506}\n",
      "{'timestamp': datetime.datetime(2025, 2, 16, 11, 28, 43, 519000), 'metadata': {'sensor': 's_humi_02'}, '_id': ObjectId('67b1bddb4c6e5cf73fbda92c'), 'value': 0.9226855890895213}\n",
      "{'timestamp': datetime.datetime(2025, 2, 16, 11, 28, 44, 549000), 'metadata': {'sensor': 's_humi_02'}, '_id': ObjectId('67b1bddc4c6e5cf73fbda92e'), 'value': 0.920037984468731}\n",
      "{'timestamp': datetime.datetime(2025, 2, 16, 11, 28, 45, 578000), 'metadata': {'sensor': 's_humi_02'}, '_id': ObjectId('67b1bddd4c6e5cf73fbda930'), 'value': 0.9174197914590766}\n",
      "{'timestamp': datetime.datetime(2025, 2, 16, 11, 28, 46, 607000), 'metadata': {'sensor': 's_humi_02'}, '_id': ObjectId('67b1bdde4c6e5cf73fbda932'), 'value': 0.9165136255717093}\n",
      "{'timestamp': datetime.datetime(2025, 2, 16, 11, 28, 47, 637000), 'metadata': {'sensor': 's_humi_02'}, '_id': ObjectId('67b1bddf4c6e5cf73fbda934'), 'value': 0.9198226991655454}\n",
      "{'timestamp': datetime.datetime(2025, 2, 16, 11, 28, 48, 679000), 'metadata': {'sensor': 's_humi_02'}, '_id': ObjectId('67b1bde04c6e5cf73fbda936'), 'value': 0.9219478740839766}\n",
      "{'timestamp': datetime.datetime(2025, 2, 16, 11, 28, 49, 722000), 'metadata': {'sensor': 's_humi_02'}, '_id': ObjectId('67b1bde14c6e5cf73fbda938'), 'value': 0.9185598079887817}\n",
      "{'timestamp': datetime.datetime(2025, 2, 16, 11, 28, 50, 740000), 'metadata': {'sensor': 's_humi_02'}, '_id': ObjectId('67b1bde24c6e5cf73fbda93a'), 'value': 0.9168588206943976}\n",
      "{'timestamp': datetime.datetime(2025, 2, 16, 11, 28, 51, 759000), 'metadata': {'sensor': 's_humi_02'}, '_id': ObjectId('67b1bde34c6e5cf73fbda93c'), 'value': 0.9165293082871923}\n",
      "{'timestamp': datetime.datetime(2025, 2, 16, 11, 28, 52, 785000), 'metadata': {'sensor': 's_humi_02'}, '_id': ObjectId('67b1bde44c6e5cf73fbda93e'), 'value': 0.9132787599222378}\n",
      "{'timestamp': datetime.datetime(2025, 2, 16, 11, 28, 53, 806000), 'metadata': {'sensor': 's_humi_02'}, '_id': ObjectId('67b1bde54c6e5cf73fbda940'), 'value': 0.9156011554334714}\n",
      "{'timestamp': datetime.datetime(2025, 2, 16, 11, 28, 54, 824000), 'metadata': {'sensor': 's_humi_02'}, '_id': ObjectId('67b1bde64c6e5cf73fbda942'), 'value': 0.9179521620515001}\n",
      "{'timestamp': datetime.datetime(2025, 2, 16, 11, 28, 55, 848000), 'metadata': {'sensor': 's_humi_02'}, '_id': ObjectId('67b1bde74c6e5cf73fbda944'), 'value': 0.9144759227498748}\n",
      "{'timestamp': datetime.datetime(2025, 2, 16, 11, 28, 56, 868000), 'metadata': {'sensor': 's_humi_02'}, '_id': ObjectId('67b1bde84c6e5cf73fbda946'), 'value': 0.9125269399445128}\n",
      "{'timestamp': datetime.datetime(2025, 2, 16, 11, 28, 57, 887000), 'metadata': {'sensor': 's_humi_02'}, '_id': ObjectId('67b1bde94c6e5cf73fbda948'), 'value': 0.9138881276287596}\n",
      "{'timestamp': datetime.datetime(2025, 2, 16, 11, 28, 58, 905000), 'metadata': {'sensor': 's_humi_02'}, '_id': ObjectId('67b1bdea4c6e5cf73fbda94a'), 'value': 0.9106774712695275}\n",
      "{'timestamp': datetime.datetime(2025, 2, 16, 11, 28, 59, 930000), 'metadata': {'sensor': 's_humi_02'}, '_id': ObjectId('67b1bdeb4c6e5cf73fbda94c'), 'value': 0.9096161266795075}\n",
      "{'timestamp': datetime.datetime(2025, 2, 16, 11, 29, 0, 973000), 'metadata': {'sensor': 's_humi_02'}, '_id': ObjectId('67b1bdec4c6e5cf73fbda94e'), 'value': 0.9109442240511082}\n",
      "{'timestamp': datetime.datetime(2025, 2, 16, 11, 29, 1, 994000), 'metadata': {'sensor': 's_humi_02'}, '_id': ObjectId('67b1bdee4c6e5cf73fbda950'), 'value': 0.9110609648464101}\n",
      "{'timestamp': datetime.datetime(2025, 2, 16, 11, 29, 3, 16000), 'metadata': {'sensor': 's_humi_02'}, '_id': ObjectId('67b1bdef4c6e5cf73fbda952'), 'value': 0.9087205330938243}\n",
      "{'timestamp': datetime.datetime(2025, 2, 16, 11, 29, 4, 52000), 'metadata': {'sensor': 's_humi_02'}, '_id': ObjectId('67b1bdf04c6e5cf73fbda954'), 'value': 0.9102281638608158}\n",
      "{'timestamp': datetime.datetime(2025, 2, 16, 11, 29, 5, 97000), 'metadata': {'sensor': 's_humi_02'}, '_id': ObjectId('67b1bdf14c6e5cf73fbda956'), 'value': 0.9116753804303319}\n",
      "{'timestamp': datetime.datetime(2025, 2, 16, 11, 29, 6, 146000), 'metadata': {'sensor': 's_humi_02'}, '_id': ObjectId('67b1bdf24c6e5cf73fbda958'), 'value': 0.9137447159115554}\n",
      "{'timestamp': datetime.datetime(2025, 2, 16, 11, 29, 7, 192000), 'metadata': {'sensor': 's_humi_02'}, '_id': ObjectId('67b1bdf34c6e5cf73fbda95a'), 'value': 0.9141771739265685}\n",
      "{'timestamp': datetime.datetime(2025, 2, 16, 11, 29, 8, 232000), 'metadata': {'sensor': 's_humi_02'}, '_id': ObjectId('67b1bdf44c6e5cf73fbda95c'), 'value': 0.9119987770523058}\n",
      "{'timestamp': datetime.datetime(2025, 2, 16, 11, 29, 9, 268000), 'metadata': {'sensor': 's_humi_02'}, '_id': ObjectId('67b1bdf54c6e5cf73fbda95e'), 'value': 0.9130112098964572}\n",
      "{'timestamp': datetime.datetime(2025, 2, 16, 11, 29, 10, 291000), 'metadata': {'sensor': 's_humi_02'}, '_id': ObjectId('67b1bdf64c6e5cf73fbda960'), 'value': 0.9101563135721915}\n",
      "{'timestamp': datetime.datetime(2025, 2, 16, 11, 29, 11, 354000), 'metadata': {'sensor': 's_humi_02'}, '_id': ObjectId('67b1bdf74c6e5cf73fbda962'), 'value': 0.9093737115455958}\n",
      "{'timestamp': datetime.datetime(2025, 2, 16, 11, 29, 12, 371000), 'metadata': {'sensor': 's_humi_02'}, '_id': ObjectId('67b1bdf84c6e5cf73fbda964'), 'value': 0.9062552478422855}\n",
      "{'timestamp': datetime.datetime(2025, 2, 16, 11, 29, 13, 389000), 'metadata': {'sensor': 's_humi_02'}, '_id': ObjectId('67b1bdf94c6e5cf73fbda966'), 'value': 0.9037130676910291}\n",
      "{'timestamp': datetime.datetime(2025, 2, 16, 11, 29, 14, 439000), 'metadata': {'sensor': 's_humi_02'}, '_id': ObjectId('67b1bdfa4c6e5cf73fbda968'), 'value': 0.9023998422709231}\n",
      "{'timestamp': datetime.datetime(2025, 2, 16, 11, 29, 15, 473000), 'metadata': {'sensor': 's_humi_02'}, '_id': ObjectId('67b1bdfb4c6e5cf73fbda96a'), 'value': 0.9029141936318523}\n",
      "{'timestamp': datetime.datetime(2025, 2, 16, 11, 29, 16, 493000), 'metadata': {'sensor': 's_humi_02'}, '_id': ObjectId('67b1bdfc4c6e5cf73fbda96c'), 'value': 0.9017785706841726}\n",
      "{'timestamp': datetime.datetime(2025, 2, 16, 11, 29, 17, 534000), 'metadata': {'sensor': 's_humi_02'}, '_id': ObjectId('67b1bdfd4c6e5cf73fbda96e'), 'value': 0.9026407131373221}\n",
      "{'timestamp': datetime.datetime(2025, 2, 16, 11, 29, 18, 556000), 'metadata': {'sensor': 's_humi_02'}, '_id': ObjectId('67b1bdfe4c6e5cf73fbda970'), 'value': 0.9057507344248713}\n",
      "{'timestamp': datetime.datetime(2025, 2, 16, 11, 29, 19, 604000), 'metadata': {'sensor': 's_humi_02'}, '_id': ObjectId('67b1bdff4c6e5cf73fbda972'), 'value': 0.9075100229494317}\n",
      "{'timestamp': datetime.datetime(2025, 2, 16, 11, 29, 20, 660000), 'metadata': {'sensor': 's_humi_02'}, '_id': ObjectId('67b1be004c6e5cf73fbda974'), 'value': 0.9095204842335367}\n",
      "{'timestamp': datetime.datetime(2025, 2, 16, 11, 29, 21, 687000), 'metadata': {'sensor': 's_humi_02'}, '_id': ObjectId('67b1be014c6e5cf73fbda976'), 'value': 0.912101869828274}\n",
      "{'timestamp': datetime.datetime(2025, 2, 16, 11, 29, 22, 711000), 'metadata': {'sensor': 's_humi_02'}, '_id': ObjectId('67b1be024c6e5cf73fbda978'), 'value': 0.9137039309559114}\n",
      "{'timestamp': datetime.datetime(2025, 2, 16, 11, 29, 23, 730000), 'metadata': {'sensor': 's_humi_02'}, '_id': ObjectId('67b1be034c6e5cf73fbda97a'), 'value': 0.9114885012710269}\n",
      "{'timestamp': datetime.datetime(2025, 2, 16, 11, 29, 24, 747000), 'metadata': {'sensor': 's_humi_02'}, '_id': ObjectId('67b1be044c6e5cf73fbda97c'), 'value': 0.9108516598475124}\n",
      "{'timestamp': datetime.datetime(2025, 2, 16, 11, 29, 25, 770000), 'metadata': {'sensor': 's_humi_02'}, '_id': ObjectId('67b1be054c6e5cf73fbda97e'), 'value': 0.9138595892975213}\n",
      "{'timestamp': datetime.datetime(2025, 2, 16, 11, 29, 26, 786000), 'metadata': {'sensor': 's_humi_02'}, '_id': ObjectId('67b1be064c6e5cf73fbda980'), 'value': 0.9117323279396593}\n",
      "{'timestamp': datetime.datetime(2025, 2, 16, 11, 29, 27, 802000), 'metadata': {'sensor': 's_humi_02'}, '_id': ObjectId('67b1be074c6e5cf73fbda982'), 'value': 0.9106372303812754}\n",
      "{'timestamp': datetime.datetime(2025, 2, 16, 11, 29, 28, 827000), 'metadata': {'sensor': 's_humi_02'}, '_id': ObjectId('67b1be084c6e5cf73fbda984'), 'value': 0.9130088058144935}\n",
      "{'timestamp': datetime.datetime(2025, 2, 16, 11, 29, 29, 844000), 'metadata': {'sensor': 's_humi_02'}, '_id': ObjectId('67b1be094c6e5cf73fbda986'), 'value': 0.9123823989450258}\n",
      "{'timestamp': datetime.datetime(2025, 2, 16, 11, 29, 30, 862000), 'metadata': {'sensor': 's_humi_02'}, '_id': ObjectId('67b1be0a4c6e5cf73fbda988'), 'value': 0.9139074126232516}\n",
      "{'timestamp': datetime.datetime(2025, 2, 16, 11, 29, 31, 879000), 'metadata': {'sensor': 's_humi_02'}, '_id': ObjectId('67b1be0b4c6e5cf73fbda98a'), 'value': 0.915669008098493}\n",
      "{'timestamp': datetime.datetime(2025, 2, 16, 11, 29, 32, 897000), 'metadata': {'sensor': 's_humi_02'}, '_id': ObjectId('67b1be0c4c6e5cf73fbda98c'), 'value': 0.9143212484477444}\n",
      "{'timestamp': datetime.datetime(2025, 2, 16, 11, 29, 33, 915000), 'metadata': {'sensor': 's_humi_02'}, '_id': ObjectId('67b1be0d4c6e5cf73fbda98e'), 'value': 0.9142905767146824}\n",
      "{'timestamp': datetime.datetime(2025, 2, 16, 11, 29, 34, 931000), 'metadata': {'sensor': 's_humi_02'}, '_id': ObjectId('67b1be0e4c6e5cf73fbda990'), 'value': 0.9113394898899675}\n",
      "{'timestamp': datetime.datetime(2025, 2, 16, 11, 29, 35, 950000), 'metadata': {'sensor': 's_humi_02'}, '_id': ObjectId('67b1be0f4c6e5cf73fbda992'), 'value': 0.9129651935799525}\n",
      "{'timestamp': datetime.datetime(2025, 2, 16, 11, 29, 36, 966000), 'metadata': {'sensor': 's_humi_02'}, '_id': ObjectId('67b1be104c6e5cf73fbda994'), 'value': 0.9129178174356615}\n",
      "{'timestamp': datetime.datetime(2025, 2, 16, 11, 29, 37, 983000), 'metadata': {'sensor': 's_humi_02'}, '_id': ObjectId('67b1be114c6e5cf73fbda996'), 'value': 0.9154588609258663}\n",
      "{'timestamp': datetime.datetime(2025, 2, 16, 11, 29, 38, 999000), 'metadata': {'sensor': 's_humi_02'}, '_id': ObjectId('67b1be134c6e5cf73fbda998'), 'value': 0.9187216918916723}\n",
      "{'timestamp': datetime.datetime(2025, 2, 16, 11, 29, 40, 34000), 'metadata': {'sensor': 's_humi_02'}, '_id': ObjectId('67b1be144c6e5cf73fbda99a'), 'value': 0.9172748442416115}\n",
      "{'timestamp': datetime.datetime(2025, 2, 16, 11, 29, 41, 51000), 'metadata': {'sensor': 's_humi_02'}, '_id': ObjectId('67b1be154c6e5cf73fbda99c'), 'value': 0.9146487840115946}\n",
      "{'timestamp': datetime.datetime(2025, 2, 16, 11, 29, 42, 70000), 'metadata': {'sensor': 's_humi_02'}, '_id': ObjectId('67b1be164c6e5cf73fbda99e'), 'value': 0.915472145608601}\n",
      "{'timestamp': datetime.datetime(2025, 2, 16, 11, 29, 43, 86000), 'metadata': {'sensor': 's_humi_02'}, '_id': ObjectId('67b1be174c6e5cf73fbda9a0'), 'value': 0.9122005569850334}\n",
      "{'timestamp': datetime.datetime(2025, 2, 16, 11, 29, 44, 123000), 'metadata': {'sensor': 's_humi_02'}, '_id': ObjectId('67b1be184c6e5cf73fbda9a2'), 'value': 0.9103711987026509}\n",
      "{'timestamp': datetime.datetime(2025, 2, 16, 11, 29, 45, 158000), 'metadata': {'sensor': 's_humi_02'}, '_id': ObjectId('67b1be194c6e5cf73fbda9a4'), 'value': 0.9093243436333993}\n",
      "{'timestamp': datetime.datetime(2025, 2, 16, 11, 29, 46, 185000), 'metadata': {'sensor': 's_humi_02'}, '_id': ObjectId('67b1be1a4c6e5cf73fbda9a6'), 'value': 0.9061574655756486}\n",
      "{'timestamp': datetime.datetime(2025, 2, 16, 11, 29, 47, 230000), 'metadata': {'sensor': 's_humi_02'}, '_id': ObjectId('67b1be1b4c6e5cf73fbda9a8'), 'value': 0.9065222680735094}\n",
      "{'timestamp': datetime.datetime(2025, 2, 16, 11, 29, 48, 270000), 'metadata': {'sensor': 's_humi_02'}, '_id': ObjectId('67b1be1c4c6e5cf73fbda9aa'), 'value': 0.9048012586530103}\n",
      "{'timestamp': datetime.datetime(2025, 2, 16, 11, 29, 49, 318000), 'metadata': {'sensor': 's_humi_02'}, '_id': ObjectId('67b1be1d4c6e5cf73fbda9ac'), 'value': 0.9046508515008268}\n",
      "{'timestamp': datetime.datetime(2025, 2, 16, 11, 29, 50, 358000), 'metadata': {'sensor': 's_humi_02'}, '_id': ObjectId('67b1be1e4c6e5cf73fbda9ae'), 'value': 0.9054545399705727}\n",
      "{'timestamp': datetime.datetime(2025, 2, 16, 11, 29, 51, 399000), 'metadata': {'sensor': 's_humi_02'}, '_id': ObjectId('67b1be1f4c6e5cf73fbda9b0'), 'value': 0.9065173311886534}\n",
      "{'timestamp': datetime.datetime(2025, 2, 16, 11, 29, 52, 454000), 'metadata': {'sensor': 's_humi_02'}, '_id': ObjectId('67b1be204c6e5cf73fbda9b2'), 'value': 0.9047287528094669}\n",
      "{'timestamp': datetime.datetime(2025, 2, 16, 11, 29, 53, 483000), 'metadata': {'sensor': 's_humi_02'}, '_id': ObjectId('67b1be214c6e5cf73fbda9b5'), 'value': 0.9036976703741774}\n",
      "{'timestamp': datetime.datetime(2025, 2, 16, 11, 29, 54, 532000), 'metadata': {'sensor': 's_humi_02'}, '_id': ObjectId('67b1be224c6e5cf73fbda9b7'), 'value': 0.9052337329845676}\n",
      "{'timestamp': datetime.datetime(2025, 2, 16, 11, 29, 55, 577000), 'metadata': {'sensor': 's_humi_02'}, '_id': ObjectId('67b1be234c6e5cf73fbda9b9'), 'value': 0.9069295716344905}\n",
      "{'timestamp': datetime.datetime(2025, 2, 16, 11, 29, 56, 627000), 'metadata': {'sensor': 's_humi_02'}, '_id': ObjectId('67b1be244c6e5cf73fbda9bb'), 'value': 0.9072153670772082}\n",
      "{'timestamp': datetime.datetime(2025, 2, 16, 11, 29, 57, 648000), 'metadata': {'sensor': 's_humi_02'}, '_id': ObjectId('67b1be254c6e5cf73fbda9bd'), 'value': 0.9083049452539498}\n",
      "{'timestamp': datetime.datetime(2025, 2, 16, 11, 29, 58, 699000), 'metadata': {'sensor': 's_humi_02'}, '_id': ObjectId('67b1be264c6e5cf73fbda9bf'), 'value': 0.9083360692227116}\n",
      "{'timestamp': datetime.datetime(2025, 2, 16, 11, 29, 59, 738000), 'metadata': {'sensor': 's_humi_02'}, '_id': ObjectId('67b1be274c6e5cf73fbda9c1'), 'value': 0.9091048625100504}\n"
     ]
    }
   ],
   "source": [
    "for record in results:\n",
    "    print(record)"
   ]
  },
  {
   "cell_type": "code",
   "execution_count": null,
   "id": "5018582e-7fd1-497b-85c3-83c6cab60d4f",
   "metadata": {},
   "outputs": [],
   "source": []
  },
  {
   "cell_type": "code",
   "execution_count": null,
   "id": "584e44f6-1a26-41a6-94f2-62b3f12c03f4",
   "metadata": {},
   "outputs": [],
   "source": []
  },
  {
   "cell_type": "code",
   "execution_count": null,
   "id": "cbd521b4-f3b6-4edc-80ef-801c90038b17",
   "metadata": {},
   "outputs": [],
   "source": []
  },
  {
   "cell_type": "code",
   "execution_count": 17,
   "id": "03be5451-a0ad-48a7-b543-9f9c1cc91a48",
   "metadata": {},
   "outputs": [],
   "source": [
    "documentArray = [\n",
    "    {\n",
    "    \"timestamp\": datetime(2025, 2, 15, 22, 5, 12),\n",
    "    \"metadata\": {\"sensor\" : \"temperature\"},\n",
    "    \"value\": 48.0\n",
    "    },\n",
    "    {\n",
    "    \"timestamp\": datetime(2025, 2, 15, 22, 5, 23),\n",
    "    \"metadata\": {\"sensor\" : \"temperature\"},\n",
    "    \"value\": 48.7\n",
    "    },\n",
    "    {\n",
    "    \"timestamp\": datetime(2025, 2, 15, 22, 5, 34),\n",
    "    \"metadata\": {\"sensor\" : \"temperature\"},\n",
    "    \"value\": 49.9\n",
    "    },\n",
    "    {\n",
    "    \"timestamp\": datetime(2025, 2, 15, 22, 5, 45),\n",
    "    \"metadata\": {\"sensor\" : \"temperature\"},\n",
    "    \"value\": 46.6\n",
    "    }\n",
    "]"
   ]
  },
  {
   "cell_type": "code",
   "execution_count": 18,
   "id": "f339dd69-4050-4d3b-933f-49d10b1805d4",
   "metadata": {},
   "outputs": [],
   "source": [
    "# Insert the documents\n",
    "result = collection.insert_many(documentArray)"
   ]
  },
  {
   "cell_type": "code",
   "execution_count": 19,
   "id": "51bc5afa-34b6-4c72-b4f5-7f9f67874146",
   "metadata": {},
   "outputs": [
    {
     "name": "stdout",
     "output_type": "stream",
     "text": [
      "Inserted document IDs: [ObjectId('67b1021b17a44de6528177c2'), ObjectId('67b1021b17a44de6528177c3'), ObjectId('67b1021b17a44de6528177c4'), ObjectId('67b1021b17a44de6528177c5')]\n"
     ]
    }
   ],
   "source": [
    "# Print the inserted documents' IDs\n",
    "print(\"Inserted document IDs:\", result.inserted_ids)"
   ]
  },
  {
   "cell_type": "code",
   "execution_count": null,
   "id": "b7a4df8b-5f4c-446a-a378-8c62ee26330f",
   "metadata": {},
   "outputs": [],
   "source": []
  }
 ],
 "metadata": {
  "kernelspec": {
   "display_name": "Python 3 (ipykernel)",
   "language": "python",
   "name": "python3"
  },
  "language_info": {
   "codemirror_mode": {
    "name": "ipython",
    "version": 3
   },
   "file_extension": ".py",
   "mimetype": "text/x-python",
   "name": "python",
   "nbconvert_exporter": "python",
   "pygments_lexer": "ipython3",
   "version": "3.12.7"
  }
 },
 "nbformat": 4,
 "nbformat_minor": 5
}
