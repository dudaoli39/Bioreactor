{
 "cells": [
  {
   "cell_type": "markdown",
   "id": "c7164857-8dd0-49e5-a1aa-a9177b322aee",
   "metadata": {},
   "source": [
    "https://www.mongodb.com/docs/rapid/core/timeseries/timeseries-procedures/ <br>\n",
    "https://www.w3schools.com/python/python_mongodb_insert.asp <br>\n",
    "https://www.mongodb.com/docs/languages/python/pymongo-arrow-driver/current/quick-start/#std-label-pymongo-arrow-quick-start"
   ]
  },
  {
   "cell_type": "code",
   "execution_count": 34,
   "id": "cfe0c310-db5d-419f-9b77-0961b5a08f60",
   "metadata": {},
   "outputs": [],
   "source": [
    "from pymongo import MongoClient\n",
    "from datetime import datetime\n",
    "import json"
   ]
  },
  {
   "cell_type": "code",
   "execution_count": 35,
   "id": "3ebf5121-138a-4ca5-80cd-19d8b297fa01",
   "metadata": {},
   "outputs": [],
   "source": [
    "reactor_name = \"01\"\n",
    "\n",
    "topic = 1\n",
    "\n",
    "start = \"2025-02-16 15:02:00\"\n",
    "finish = \"2025-02-16 15:03:00\""
   ]
  },
  {
   "cell_type": "code",
   "execution_count": 36,
   "id": "64c07434-eedf-44f0-9d2c-c1ea5fa3fa0d",
   "metadata": {},
   "outputs": [],
   "source": [
    "connections_file = open(\"reactor_config/connections.json\", \"r\")\n",
    "connections = json.load(connections_file)"
   ]
  },
  {
   "cell_type": "code",
   "execution_count": 37,
   "id": "7cb256ab-78a6-4060-8dd8-72afa0230108",
   "metadata": {},
   "outputs": [],
   "source": [
    "# Connect to MongoDB\n",
    "client = MongoClient(connections[\"SERVER\"])"
   ]
  },
  {
   "cell_type": "code",
   "execution_count": 38,
   "id": "f6696295-714f-41ac-89d1-cbf865c55da9",
   "metadata": {},
   "outputs": [],
   "source": [
    "# Select the database and collection\n",
    "db = client[connections[\"DATABASE\"]]"
   ]
  },
  {
   "cell_type": "code",
   "execution_count": 39,
   "id": "bec05c9e-386c-4816-9d03-343b18818853",
   "metadata": {},
   "outputs": [],
   "source": [
    "query_topics = {\n",
    "    1: \"temperature\",\n",
    "    2: \"pressure\",\n",
    "    3: \"humidity\",\n",
    "    4: \"oxigen\"\n",
    "}\n",
    "query_sensors = {\n",
    "    \"temperature\": \"s_temp_\"+reactor_name,\n",
    "    \"pressure\": \"s_pres_\"+reactor_name,\n",
    "    \"humidity\": \"s_humi_\"+reactor_name,\n",
    "    \"oxigen\": \"s_oxig_\"+reactor_name,\n",
    "}"
   ]
  },
  {
   "cell_type": "code",
   "execution_count": 40,
   "id": "aeb5fab1-ebc1-4c02-bb26-61fa6a9374b3",
   "metadata": {},
   "outputs": [],
   "source": [
    "collection = db[query_topics[topic]]"
   ]
  },
  {
   "cell_type": "code",
   "execution_count": 41,
   "id": "fa000f50-c164-4aeb-a7a9-33eb6c3746ee",
   "metadata": {},
   "outputs": [],
   "source": [
    "# Query time series data\n",
    "start_time = datetime.strptime(start, \"%Y-%m-%d %H:%M:%S\")\n",
    "end_time = datetime.strptime(finish, \"%Y-%m-%d %H:%M:%S\")"
   ]
  },
  {
   "cell_type": "code",
   "execution_count": 42,
   "id": "7fc40039-f3c7-47f7-8c8f-057a44313e5a",
   "metadata": {},
   "outputs": [],
   "source": [
    "query = {\n",
    "    \"timestamp\": {'$gte': start_time, '$lte': end_time},\n",
    "    \"metadata.sensor\": query_sensors[query_topics[topic]]\n",
    "}\n",
    "\n",
    "results = collection.find(query)\n"
   ]
  },
  {
   "cell_type": "code",
   "execution_count": 43,
   "id": "ba1bef3b-e84a-44bf-98e0-29cc82518563",
   "metadata": {},
   "outputs": [],
   "source": [
    "for record in results:\n",
    "    print(record)"
   ]
  },
  {
   "cell_type": "code",
   "execution_count": 44,
   "id": "5018582e-7fd1-497b-85c3-83c6cab60d4f",
   "metadata": {},
   "outputs": [],
   "source": [
    "client.close()"
   ]
  }
 ],
 "metadata": {
  "kernelspec": {
   "display_name": "Python 3 (ipykernel)",
   "language": "python",
   "name": "python3"
  },
  "language_info": {
   "codemirror_mode": {
    "name": "ipython",
    "version": 3
   },
   "file_extension": ".py",
   "mimetype": "text/x-python",
   "name": "python",
   "nbconvert_exporter": "python",
   "pygments_lexer": "ipython3",
   "version": "3.12.7"
  }
 },
 "nbformat": 4,
 "nbformat_minor": 5
}
