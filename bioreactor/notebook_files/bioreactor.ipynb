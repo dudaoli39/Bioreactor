{
 "cells": [
  {
   "cell_type": "markdown",
   "id": "06aa8843-d350-4234-839d-41084c5b6aa7",
   "metadata": {},
   "source": [
    "Create the default settings for a bio-reactor<BR>\n",
    "This Bio-Reactor will have a group of sensors that will generate random data in a certain defined range to emulate a reactor<BR>\n",
    "There will also be a group of associations between those sensors to bring more real-like situation<BR>\n",
    "Each sensor will generate a value each X seconds that are configurable by a CONFIG file<BR>"
   ]
  },
  {
   "cell_type": "code",
   "execution_count": 1,
   "id": "7849b81f-e059-422c-8560-0ed08bbb3251",
   "metadata": {},
   "outputs": [],
   "source": [
    "from kafka import KafkaProducer\n",
    "import json\n",
    "import random\n",
    "import time\n",
    "from datetime import datetime"
   ]
  },
  {
   "cell_type": "code",
   "execution_count": 2,
   "id": "ec226174-d7bf-44b6-9e6f-4f2e4dea3766",
   "metadata": {},
   "outputs": [],
   "source": [
    "bio_config_file = open(\"reactor_config/configurations.json\", \"r\")\n",
    "bio_config = json.load(bio_config_file)\n",
    "\n",
    "connections_file = open(\"reactor_config/connections.json\", \"r\")\n",
    "connections = json.load(connections_file)"
   ]
  },
  {
   "cell_type": "markdown",
   "id": "a8759105-5a94-48b7-a066-a000317d25fb",
   "metadata": {},
   "source": [
    "INDICATE THE REACTOR NAME TO COLLECT THE DATA FROM"
   ]
  },
  {
   "cell_type": "code",
   "execution_count": 3,
   "id": "ed51cee2-046f-400f-8f8c-16b039e4130b",
   "metadata": {},
   "outputs": [],
   "source": [
    "reactor_name = \"01\""
   ]
  },
  {
   "cell_type": "markdown",
   "id": "d08ba32b-d56b-42fe-b2c7-c920344d2b6e",
   "metadata": {},
   "source": [
    "PREPARING PRODUCER TO KAFKA"
   ]
  },
  {
   "cell_type": "code",
   "execution_count": 4,
   "id": "b637622b-40cf-472e-9deb-304132634e49",
   "metadata": {},
   "outputs": [],
   "source": [
    "# Initialize the Kafka producer\n",
    "producer = KafkaProducer(\n",
    "    bootstrap_servers=connections[\"KAFKA_SERVER\"],\n",
    "    value_serializer=lambda v: json.dumps(v).encode('utf-8'))"
   ]
  },
  {
   "cell_type": "markdown",
   "id": "c5b0222a-53c4-44fb-8486-3e471606233c",
   "metadata": {},
   "source": [
    "CREATING THE MESSAGE TO BE DELIVERED"
   ]
  },
  {
   "cell_type": "code",
   "execution_count": 5,
   "id": "616ccc2a-4e68-4824-ae0a-cef9f6001f08",
   "metadata": {},
   "outputs": [],
   "source": [
    "def create_message(sensor, value, time_run):\n",
    "    message = {\n",
    "        \"timestamp\": time_run,\n",
    "        \"metadata\": {\"sensor\" : sensor},\n",
    "        \"value\": value\n",
    "    }\n",
    "    return message\n",
    "    "
   ]
  },
  {
   "cell_type": "code",
   "execution_count": 6,
   "id": "f0f16a8e-1584-4509-bd0f-03eb65215c33",
   "metadata": {},
   "outputs": [],
   "source": [
    "def send_message(topic, message):\n",
    "    # Send the message\n",
    "    producer.send(topic, message)\n",
    "    # Ensure all messages are sent\n",
    "    producer.flush()\n",
    "    #print(\"-- message \" + str(repeat+1) + \" sent...\")"
   ]
  },
  {
   "cell_type": "markdown",
   "id": "8a99b61b-7af3-4665-8f45-71db4aab969e",
   "metadata": {},
   "source": [
    "CREATING THE RELATIONSHIP FUNCTIONS\n",
    "TEMPERATURE WILL BE THE BASE"
   ]
  },
  {
   "cell_type": "code",
   "execution_count": 7,
   "id": "0a6f47ef-50c8-4e9a-a93c-b7e09a88a077",
   "metadata": {},
   "outputs": [],
   "source": [
    "def temperature_humidity(before, now):\n",
    "    variation = now - before\n",
    "    #1 -> json\n",
    "    #var -> y\n",
    "    #y = json x var\n",
    "    return variation * bio_config[\"TEMPERATURE_HUMIDITY\"]\n",
    "    "
   ]
  },
  {
   "cell_type": "code",
   "execution_count": 8,
   "id": "11807424-ad99-45fa-8ee2-d858f949aaa8",
   "metadata": {},
   "outputs": [],
   "source": [
    "def humidity_pressure(before, now):\n",
    "    variation = now - before\n",
    "    #1 -> json\n",
    "    #var -> y\n",
    "    #y = json x var\n",
    "    return variation * bio_config[\"HUMIDITY_PRESSURE\"]\n",
    "    "
   ]
  },
  {
   "cell_type": "code",
   "execution_count": 9,
   "id": "ef396c18-b578-4c48-bd3a-fe8e40c06d23",
   "metadata": {},
   "outputs": [],
   "source": [
    "def temperature_oxigen(before, now):\n",
    "    variation = now - before\n",
    "    #1 -> json\n",
    "    #var -> y\n",
    "    #y = json x var\n",
    "    return variation * bio_config[\"TEMPERATURE_OXIGEN\"]\n",
    "    "
   ]
  },
  {
   "cell_type": "code",
   "execution_count": 10,
   "id": "8eafd6d2-1ab5-4ede-a66f-4644a74ee9ff",
   "metadata": {},
   "outputs": [],
   "source": [
    "def pressure_oxigen(before, now):\n",
    "    variation = now - before\n",
    "    #1 -> json\n",
    "    #var -> y\n",
    "    #y = json x var\n",
    "    return variation * bio_config[\"PRESSURE_OXIGEN\"]\n",
    "    "
   ]
  },
  {
   "cell_type": "markdown",
   "id": "46a7763b-7266-47dd-a5e0-f698d1abc99e",
   "metadata": {},
   "source": [
    "CREATING THE TEMPERATURE SENSOR"
   ]
  },
  {
   "cell_type": "markdown",
   "id": "add3fba9-8961-4867-ba68-121d862a6596",
   "metadata": {},
   "source": [
    "SETTING UP RANDOM INITIAL VARIABLES FOR THE SENSORS"
   ]
  },
  {
   "cell_type": "code",
   "execution_count": 11,
   "id": "1ea4f819-4dfe-4b1d-b9c5-30fa74667d21",
   "metadata": {},
   "outputs": [],
   "source": [
    "temperature = random.uniform(bio_config[\"TEMPERATURE_MIN\"], bio_config[\"TEMPERATURE_MAX\"])"
   ]
  },
  {
   "cell_type": "code",
   "execution_count": 12,
   "id": "ef816dce-b76c-4880-ba28-01a4c8a58de1",
   "metadata": {},
   "outputs": [],
   "source": [
    "pressure = random.uniform(bio_config[\"PRESSURE_MIN\"], bio_config[\"PRESSURE_MAX\"])"
   ]
  },
  {
   "cell_type": "code",
   "execution_count": 13,
   "id": "3cfa3553-3d2c-4a66-a616-f5b1fa7ecabf",
   "metadata": {},
   "outputs": [],
   "source": [
    "humidity = random.uniform(bio_config[\"HUMIDITY_MIN\"], bio_config[\"HUMIDITY_MAX\"])"
   ]
  },
  {
   "cell_type": "code",
   "execution_count": 14,
   "id": "15bcf2ec-0e24-4765-8ca5-05d737ff7884",
   "metadata": {},
   "outputs": [],
   "source": [
    "oxigen = random.uniform(bio_config[\"OXIGEN_MIN\"], bio_config[\"OXIGEN_MAX\"])"
   ]
  },
  {
   "cell_type": "code",
   "execution_count": null,
   "id": "a7ea3d28-d717-4989-bd8e-416db1ea6e6c",
   "metadata": {},
   "outputs": [],
   "source": []
  },
  {
   "cell_type": "markdown",
   "id": "fcc3e232-e833-4376-a06a-aaae59c9595d",
   "metadata": {},
   "source": [
    "RUNNING THE BIOREACTOR"
   ]
  },
  {
   "cell_type": "code",
   "execution_count": 1,
   "id": "c0bb0226-b811-4958-ae00-111c375f6f81",
   "metadata": {},
   "outputs": [
    {
     "ename": "NameError",
     "evalue": "name 'producer' is not defined",
     "output_type": "error",
     "traceback": [
      "\u001b[1;31m---------------------------------------------------------------------------\u001b[0m",
      "\u001b[1;31mNameError\u001b[0m                                 Traceback (most recent call last)",
      "Cell \u001b[1;32mIn[1], line 6\u001b[0m\n\u001b[0;32m      3\u001b[0m \u001b[38;5;28;01mwhile\u001b[39;00m \u001b[38;5;28;01mTrue\u001b[39;00m:\n\u001b[0;32m      4\u001b[0m     \u001b[38;5;66;03m#print(str(repeat+1)+\" - RUN\")\u001b[39;00m\n\u001b[1;32m----> 6\u001b[0m     time_run \u001b[38;5;241m=\u001b[39m \u001b[38;5;28mstr\u001b[39m(datetime\u001b[38;5;241m.\u001b[39mnow())\n\u001b[0;32m      8\u001b[0m     \u001b[38;5;66;03m# randomly select a variation for temperature and then calculate the variation for other parameters based on rules\u001b[39;00m\n",
      "\u001b[1;31mNameError\u001b[0m: name 'datetime' is not defined",
      "\nDuring handling of the above exception, another exception occurred:\n",
      "\u001b[1;31mNameError\u001b[0m                                 Traceback (most recent call last)",
      "Cell \u001b[1;32mIn[1], line 43\u001b[0m\n\u001b[0;32m     41\u001b[0m     \u001b[38;5;28mprint\u001b[39m(\u001b[38;5;124m\"\u001b[39m\u001b[38;5;124mBioreactor stopped.\u001b[39m\u001b[38;5;124m\"\u001b[39m)\n\u001b[0;32m     42\u001b[0m \u001b[38;5;28;01mfinally\u001b[39;00m:\n\u001b[1;32m---> 43\u001b[0m     producer\u001b[38;5;241m.\u001b[39mclose()\n",
      "\u001b[1;31mNameError\u001b[0m: name 'producer' is not defined"
     ]
    }
   ],
   "source": [
    "#creating accepctance variation OUT of the ideal limits of temperature\n",
    "limit_temperature_low = (bio_config[\"TEMPERATURE_MIN\"] - (bio_config[\"TEMPERATURE_MIN\"]*bio_config[\"ACCEPTED_VARIANCE\"]))\n",
    "limit_temperature_high = (bio_config[\"TEMPERATURE_MAX\"] + (bio_config[\"TEMPERATURE_MAX\"]*bio_config[\"ACCEPTED_VARIANCE\"]))\n",
    "\n",
    "# Infinite loop to consume messages\n",
    "try:\n",
    "    while True:\n",
    "        #print(str(repeat+1)+\" - RUN\")\n",
    "        \n",
    "        time_run = str(datetime.now())\n",
    "\n",
    "        # randomly select a variation for temperature and then calculate the variation for other parameters based on rules\n",
    "        variation = random.uniform(-bio_config[\"RANDOM_IMPACT\"], bio_config[\"RANDOM_IMPACT\"])\n",
    "        new_temperature = temperature + variation\n",
    "        # need to put trigger in case the variation is out of the expected % range, otherwise the readings can be too weird \n",
    "        if ((new_temperature < limit_temperature_low) or (new_temperature > limit_temperature_high)):\n",
    "            variation = variation * -1\n",
    "            new_temperature = temperature + variation\n",
    "        \n",
    "        new_humidity = humidity + temperature_humidity(temperature, new_temperature)\n",
    "        new_pressure = pressure + humidity_pressure(humidity, new_humidity)\n",
    "        new_oxigen = oxigen + (temperature_oxigen(temperature, new_temperature) + pressure_oxigen(pressure, new_pressure))/2\n",
    "\n",
    "        #update the new values for each sensor\n",
    "        temperature = new_temperature\n",
    "        humidity = new_humidity\n",
    "        pressure = new_pressure\n",
    "        oxigen = new_oxigen\n",
    "\n",
    "        #send the new sensor values to messaging service\n",
    "        message = create_message(\"s_temp_\"+reactor_name, temperature, time_run)\n",
    "        send_message(\"temperature\", message)\n",
    "        message = create_message(\"s_humi_\"+reactor_name, humidity, time_run)\n",
    "        send_message(\"humidity\", message)\n",
    "        message = create_message(\"s_pres_\"+reactor_name, pressure, time_run)\n",
    "        send_message(\"pressure\", message)\n",
    "        message = create_message(\"s_oxig_\"+reactor_name, oxigen, time_run)\n",
    "        send_message(\"oxigen\", message)\n",
    "\n",
    "        #wait to start all over based on frequence\n",
    "        time.sleep(bio_config[\"FREQUENCE\"])\n",
    "        \n",
    "except KeyboardInterrupt:\n",
    "    print(\"Bioreactor stopped.\")\n",
    "finally:\n",
    "    producer.close()\n"
   ]
  },
  {
   "cell_type": "code",
   "execution_count": null,
   "id": "d9533705-5263-4566-a1ef-023aa767ce23",
   "metadata": {},
   "outputs": [],
   "source": []
  }
 ],
 "metadata": {
  "kernelspec": {
   "display_name": "Python 3 (ipykernel)",
   "language": "python",
   "name": "python3"
  },
  "language_info": {
   "codemirror_mode": {
    "name": "ipython",
    "version": 3
   },
   "file_extension": ".py",
   "mimetype": "text/x-python",
   "name": "python",
   "nbconvert_exporter": "python",
   "pygments_lexer": "ipython3",
   "version": "3.12.7"
  }
 },
 "nbformat": 4,
 "nbformat_minor": 5
}
