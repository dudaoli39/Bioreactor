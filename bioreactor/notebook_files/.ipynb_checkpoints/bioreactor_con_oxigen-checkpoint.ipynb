{
 "cells": [
  {
   "cell_type": "code",
   "execution_count": null,
   "id": "cd62a078-b677-4b47-bd2c-78e5f041a4fc",
   "metadata": {},
   "outputs": [],
   "source": [
    "from kafka import KafkaConsumer\n",
    "from pymongo import MongoClient\n",
    "from datetime import datetime\n",
    "import json"
   ]
  },
  {
   "cell_type": "code",
   "execution_count": null,
   "id": "1d82e59e-671a-48ef-9af1-fdc207deefe8",
   "metadata": {},
   "outputs": [],
   "source": [
    "connections_file = open(\"reactor_config/connections.json\", \"r\")\n",
    "connections = json.load(connections_file)"
   ]
  },
  {
   "cell_type": "markdown",
   "id": "1d6c280f-b78d-4b3c-b4be-5ac9148967cb",
   "metadata": {},
   "source": [
    "TOPIC"
   ]
  },
  {
   "cell_type": "code",
   "execution_count": null,
   "id": "ee65089e-041f-4e2f-9d81-ca2690c34715",
   "metadata": {},
   "outputs": [],
   "source": [
    "# Define the topic and message\n",
    "topic = 'oxigen'"
   ]
  },
  {
   "cell_type": "markdown",
   "id": "850fdc38-147f-4d7e-bd03-d41995e316c8",
   "metadata": {},
   "source": [
    "CONNECTING TO MONGODB"
   ]
  },
  {
   "cell_type": "code",
   "execution_count": null,
   "id": "a8d4c356-3901-4fa0-8e3e-0447c907fe53",
   "metadata": {},
   "outputs": [],
   "source": [
    "# Connect to MongoDB\n",
    "client = MongoClient(connections[\"SERVER\"])"
   ]
  },
  {
   "cell_type": "code",
   "execution_count": null,
   "id": "8546f55a-40f0-4edf-9b23-5f630e09229d",
   "metadata": {},
   "outputs": [],
   "source": [
    "# Select the database and collection\n",
    "db = client[connections[\"DATABASE\"]]\n",
    "collection = db[topic]"
   ]
  },
  {
   "cell_type": "code",
   "execution_count": null,
   "id": "78261913-1b09-41ba-9764-76e3d73bcd3a",
   "metadata": {},
   "outputs": [],
   "source": [
    "\n",
    "# Kafka configuration\n",
    "# Initialize the Kafka consumer\n",
    "consumer = KafkaConsumer(\n",
    "    topic,\n",
    "    bootstrap_servers=connections[\"KAFKA_SERVER\"],\n",
    "    auto_offset_reset='latest',\n",
    "    value_deserializer=lambda x: json.loads(x.decode('utf-8'))\n",
    ")\n"
   ]
  },
  {
   "cell_type": "code",
   "execution_count": null,
   "id": "23d93379-3e94-4dcc-b114-5b67e1136cb6",
   "metadata": {},
   "outputs": [],
   "source": [
    "# Infinite loop to consume messages\n",
    "try:\n",
    "    for message in consumer:\n",
    "        document = message.value\n",
    "        document[\"timestamp\"] = datetime.strptime(document[\"timestamp\"], '%Y-%m-%d %H:%M:%S.%f')\n",
    "        #print(document)\n",
    "        # Insert the document\n",
    "        result = collection.insert_one(document)\n",
    "        #print(\"Saved message from \" + str(document[\"timestamp\"]) + \" and ID \" + str(result.inserted_id))\n",
    "except KeyboardInterrupt:\n",
    "    print(\"Consumer stopped.\")\n",
    "finally:\n",
    "    consumer.close()\n",
    "    # Close the connection\n",
    "    client.close()\n"
   ]
  },
  {
   "cell_type": "code",
   "execution_count": null,
   "id": "fcf81d77-bcce-4046-bd44-0cccf005e666",
   "metadata": {},
   "outputs": [],
   "source": []
  }
 ],
 "metadata": {
  "kernelspec": {
   "display_name": "Python 3 (ipykernel)",
   "language": "python",
   "name": "python3"
  },
  "language_info": {
   "codemirror_mode": {
    "name": "ipython",
    "version": 3
   },
   "file_extension": ".py",
   "mimetype": "text/x-python",
   "name": "python",
   "nbconvert_exporter": "python",
   "pygments_lexer": "ipython3",
   "version": "3.12.7"
  }
 },
 "nbformat": 4,
 "nbformat_minor": 5
}
