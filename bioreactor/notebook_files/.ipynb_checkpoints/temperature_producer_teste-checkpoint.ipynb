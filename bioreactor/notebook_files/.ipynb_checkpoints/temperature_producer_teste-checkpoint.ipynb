{
 "cells": [
  {
   "cell_type": "code",
   "execution_count": 1,
   "id": "2f2542b3-f017-4430-9603-fe0833d253e3",
   "metadata": {},
   "outputs": [],
   "source": [
    "from kafka import KafkaProducer"
   ]
  },
  {
   "cell_type": "code",
   "execution_count": 2,
   "id": "c5cd4c85-2854-4bff-bf92-80516e2bc99c",
   "metadata": {},
   "outputs": [],
   "source": [
    "# Initialize the Kafka producer\n",
    "producer = KafkaProducer(bootstrap_servers='localhost:9092')"
   ]
  },
  {
   "cell_type": "code",
   "execution_count": 3,
   "id": "c758da43-e13e-4953-a2d1-354b1b3510fe",
   "metadata": {},
   "outputs": [],
   "source": [
    "# Define the topic and message\n",
    "topic = 'your_topic_name'\n",
    "message = b'Hello, Kafka!'"
   ]
  },
  {
   "cell_type": "code",
   "execution_count": 4,
   "id": "7cb1439c-8a91-47d4-b4bb-d7df1e1e6432",
   "metadata": {},
   "outputs": [
    {
     "data": {
      "text/plain": [
       "<kafka.producer.future.FutureRecordMetadata at 0x17588e37b30>"
      ]
     },
     "execution_count": 4,
     "metadata": {},
     "output_type": "execute_result"
    }
   ],
   "source": [
    "# Send the message\n",
    "producer.send(topic, message)\n",
    "\n"
   ]
  },
  {
   "cell_type": "code",
   "execution_count": 5,
   "id": "a55885f6-b4b7-4e9c-b02b-eb898a2111c0",
   "metadata": {},
   "outputs": [
    {
     "name": "stdout",
     "output_type": "stream",
     "text": [
      "Message sent successfully!\n"
     ]
    }
   ],
   "source": [
    "# Ensure all messages are sent before closing the producer\n",
    "producer.flush()\n",
    "producer.close()\n",
    "\n",
    "print(\"Message sent successfully!\")\n"
   ]
  },
  {
   "cell_type": "code",
   "execution_count": null,
   "id": "c19fca24-38e6-49a4-bffa-5ab697e5ee41",
   "metadata": {},
   "outputs": [],
   "source": []
  }
 ],
 "metadata": {
  "kernelspec": {
   "display_name": "Python 3 (ipykernel)",
   "language": "python",
   "name": "python3"
  },
  "language_info": {
   "codemirror_mode": {
    "name": "ipython",
    "version": 3
   },
   "file_extension": ".py",
   "mimetype": "text/x-python",
   "name": "python",
   "nbconvert_exporter": "python",
   "pygments_lexer": "ipython3",
   "version": "3.12.7"
  }
 },
 "nbformat": 4,
 "nbformat_minor": 5
}
