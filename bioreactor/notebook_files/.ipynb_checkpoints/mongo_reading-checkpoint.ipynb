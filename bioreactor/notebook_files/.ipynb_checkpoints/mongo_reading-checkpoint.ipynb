{
 "cells": [
  {
   "cell_type": "markdown",
   "id": "c7164857-8dd0-49e5-a1aa-a9177b322aee",
   "metadata": {},
   "source": [
    "https://www.mongodb.com/docs/rapid/core/timeseries/timeseries-procedures/ <br>\n",
    "https://www.w3schools.com/python/python_mongodb_insert.asp <br>\n",
    "https://www.mongodb.com/docs/languages/python/pymongo-arrow-driver/current/quick-start/#std-label-pymongo-arrow-quick-start"
   ]
  },
  {
   "cell_type": "code",
   "execution_count": 57,
   "id": "cfe0c310-db5d-419f-9b77-0961b5a08f60",
   "metadata": {},
   "outputs": [],
   "source": [
    "from pymongo import MongoClient\n",
    "from datetime import datetime\n",
    "import json"
   ]
  },
  {
   "cell_type": "code",
   "execution_count": 58,
   "id": "3ebf5121-138a-4ca5-80cd-19d8b297fa01",
   "metadata": {},
   "outputs": [],
   "source": [
    "reactor_name = \"01\"\n",
    "\n",
    "topic = 1\n",
    "\n",
    "start = \"2025-02-16 02:50:00\"\n",
    "finish = \"2025-02-16 02:51:00\""
   ]
  },
  {
   "cell_type": "code",
   "execution_count": 59,
   "id": "64c07434-eedf-44f0-9d2c-c1ea5fa3fa0d",
   "metadata": {},
   "outputs": [],
   "source": [
    "connections_file = open(\"reactor_config/connections.json\", \"r\")\n",
    "connections = json.load(connections_file)"
   ]
  },
  {
   "cell_type": "code",
   "execution_count": 60,
   "id": "7cb256ab-78a6-4060-8dd8-72afa0230108",
   "metadata": {},
   "outputs": [],
   "source": [
    "# Connect to MongoDB\n",
    "client = MongoClient(connections[\"SERVER\"])"
   ]
  },
  {
   "cell_type": "code",
   "execution_count": 61,
   "id": "f6696295-714f-41ac-89d1-cbf865c55da9",
   "metadata": {},
   "outputs": [],
   "source": [
    "# Select the database and collection\n",
    "db = client[connections[\"DATABASE\"]]"
   ]
  },
  {
   "cell_type": "code",
   "execution_count": 62,
   "id": "bec05c9e-386c-4816-9d03-343b18818853",
   "metadata": {},
   "outputs": [],
   "source": [
    "query_topics = {\n",
    "    1: \"temperature\",\n",
    "    2: \"pressure\",\n",
    "    3: \"humidity\",\n",
    "    4: \"oxigen\"\n",
    "}\n",
    "query_sensors = {\n",
    "    \"temperature\": \"s_temp_\"+reactor_name,\n",
    "    \"pressure\": \"s_pres_\"+reactor_name,\n",
    "    \"humidity\": \"s_humi_\"+reactor_name,\n",
    "    \"oxigen\": \"s_oxig_\"+reactor_name,\n",
    "}"
   ]
  },
  {
   "cell_type": "code",
   "execution_count": 63,
   "id": "aeb5fab1-ebc1-4c02-bb26-61fa6a9374b3",
   "metadata": {},
   "outputs": [],
   "source": [
    "collection = db[query_topics[topic]]"
   ]
  },
  {
   "cell_type": "code",
   "execution_count": 64,
   "id": "fa000f50-c164-4aeb-a7a9-33eb6c3746ee",
   "metadata": {},
   "outputs": [],
   "source": [
    "# Query time series data\n",
    "start_time = datetime.strptime(start, \"%Y-%m-%d %H:%M:%S\")\n",
    "end_time = datetime.strptime(finish, \"%Y-%m-%d %H:%M:%S\")"
   ]
  },
  {
   "cell_type": "code",
   "execution_count": 65,
   "id": "7fc40039-f3c7-47f7-8c8f-057a44313e5a",
   "metadata": {},
   "outputs": [],
   "source": [
    "query = {\n",
    "    \"timestamp\": {'$gte': start_time, '$lte': end_time},\n",
    "    \"metadata.sensor\": query_sensors[query_topics[topic]]\n",
    "}\n",
    "\n",
    "results = collection.find(query)\n"
   ]
  },
  {
   "cell_type": "code",
   "execution_count": 66,
   "id": "ba1bef3b-e84a-44bf-98e0-29cc82518563",
   "metadata": {},
   "outputs": [
    {
     "name": "stdout",
     "output_type": "stream",
     "text": [
      "{'timestamp': datetime.datetime(2025, 2, 16, 2, 50, 0, 712000), 'metadata': {'sensor': 's_temp_01'}, '_id': ObjectId('67b144480cbb63f1dd2aaa1d'), 'value': 7.627843063143443}\n",
      "{'timestamp': datetime.datetime(2025, 2, 16, 2, 50, 1, 755000), 'metadata': {'sensor': 's_temp_01'}, '_id': ObjectId('67b144490cbb63f1dd2aaa1e'), 'value': 8.029768897006733}\n",
      "{'timestamp': datetime.datetime(2025, 2, 16, 2, 50, 2, 799000), 'metadata': {'sensor': 's_temp_01'}, '_id': ObjectId('67b1444a0cbb63f1dd2aaa1f'), 'value': 7.96724374369859}\n",
      "{'timestamp': datetime.datetime(2025, 2, 16, 2, 50, 3, 840000), 'metadata': {'sensor': 's_temp_01'}, '_id': ObjectId('67b1444b0cbb63f1dd2aaa20'), 'value': 7.742321044209661}\n",
      "{'timestamp': datetime.datetime(2025, 2, 16, 2, 50, 4, 872000), 'metadata': {'sensor': 's_temp_01'}, '_id': ObjectId('67b1444c0cbb63f1dd2aaa21'), 'value': 8.084811051449798}\n",
      "{'timestamp': datetime.datetime(2025, 2, 16, 2, 50, 5, 912000), 'metadata': {'sensor': 's_temp_01'}, '_id': ObjectId('67b1444d0cbb63f1dd2aaa22'), 'value': 7.96225512774998}\n",
      "{'timestamp': datetime.datetime(2025, 2, 16, 2, 50, 6, 957000), 'metadata': {'sensor': 's_temp_01'}, '_id': ObjectId('67b1444e0cbb63f1dd2aaa23'), 'value': 8.083804172501024}\n",
      "{'timestamp': datetime.datetime(2025, 2, 16, 2, 50, 7, 989000), 'metadata': {'sensor': 's_temp_01'}, '_id': ObjectId('67b1444f0cbb63f1dd2aaa24'), 'value': 8.460753638669269}\n",
      "{'timestamp': datetime.datetime(2025, 2, 16, 2, 50, 9, 34000), 'metadata': {'sensor': 's_temp_01'}, '_id': ObjectId('67b144510cbb63f1dd2aaa25'), 'value': 8.206811257657652}\n",
      "{'timestamp': datetime.datetime(2025, 2, 16, 2, 50, 10, 77000), 'metadata': {'sensor': 's_temp_01'}, '_id': ObjectId('67b144520cbb63f1dd2aaa26'), 'value': 8.644991769560804}\n",
      "{'timestamp': datetime.datetime(2025, 2, 16, 2, 50, 11, 95000), 'metadata': {'sensor': 's_temp_01'}, '_id': ObjectId('67b144530cbb63f1dd2aaa27'), 'value': 8.687174988015395}\n",
      "{'timestamp': datetime.datetime(2025, 2, 16, 2, 50, 12, 130000), 'metadata': {'sensor': 's_temp_01'}, '_id': ObjectId('67b144540cbb63f1dd2aaa28'), 'value': 8.569478539239475}\n",
      "{'timestamp': datetime.datetime(2025, 2, 16, 2, 50, 13, 166000), 'metadata': {'sensor': 's_temp_01'}, '_id': ObjectId('67b144550cbb63f1dd2aaa29'), 'value': 8.457648439289386}\n",
      "{'timestamp': datetime.datetime(2025, 2, 16, 2, 50, 14, 210000), 'metadata': {'sensor': 's_temp_01'}, '_id': ObjectId('67b144560cbb63f1dd2aaa2a'), 'value': 8.01624784538188}\n",
      "{'timestamp': datetime.datetime(2025, 2, 16, 2, 50, 15, 238000), 'metadata': {'sensor': 's_temp_01'}, '_id': ObjectId('67b144570cbb63f1dd2aaa2b'), 'value': 7.718305172125058}\n",
      "{'timestamp': datetime.datetime(2025, 2, 16, 2, 50, 16, 280000), 'metadata': {'sensor': 's_temp_01'}, '_id': ObjectId('67b144580cbb63f1dd2aaa2c'), 'value': 7.661328779728405}\n",
      "{'timestamp': datetime.datetime(2025, 2, 16, 2, 50, 17, 303000), 'metadata': {'sensor': 's_temp_01'}, '_id': ObjectId('67b144590cbb63f1dd2aaa2d'), 'value': 7.444159081153211}\n",
      "{'timestamp': datetime.datetime(2025, 2, 16, 2, 50, 18, 320000), 'metadata': {'sensor': 's_temp_01'}, '_id': ObjectId('67b1445a0cbb63f1dd2aaa2e'), 'value': 7.490295158395584}\n",
      "{'timestamp': datetime.datetime(2025, 2, 16, 2, 50, 19, 372000), 'metadata': {'sensor': 's_temp_01'}, '_id': ObjectId('67b1445b0cbb63f1dd2aaa2f'), 'value': 7.6442750356120515}\n",
      "{'timestamp': datetime.datetime(2025, 2, 16, 2, 50, 20, 407000), 'metadata': {'sensor': 's_temp_01'}, '_id': ObjectId('67b1445c0cbb63f1dd2aaa30'), 'value': 7.7651327881139895}\n",
      "{'timestamp': datetime.datetime(2025, 2, 16, 2, 50, 21, 423000), 'metadata': {'sensor': 's_temp_01'}, '_id': ObjectId('67b1445d0cbb63f1dd2aaa31'), 'value': 7.350175753874296}\n",
      "{'timestamp': datetime.datetime(2025, 2, 16, 2, 50, 22, 454000), 'metadata': {'sensor': 's_temp_01'}, '_id': ObjectId('67b1445e0cbb63f1dd2aaa32'), 'value': 7.6141020314296455}\n",
      "{'timestamp': datetime.datetime(2025, 2, 16, 2, 50, 23, 488000), 'metadata': {'sensor': 's_temp_01'}, '_id': ObjectId('67b1445f0cbb63f1dd2aaa33'), 'value': 7.67916313135703}\n",
      "{'timestamp': datetime.datetime(2025, 2, 16, 2, 50, 24, 515000), 'metadata': {'sensor': 's_temp_01'}, '_id': ObjectId('67b144600cbb63f1dd2aaa34'), 'value': 7.541391452695229}\n",
      "{'timestamp': datetime.datetime(2025, 2, 16, 2, 50, 25, 554000), 'metadata': {'sensor': 's_temp_01'}, '_id': ObjectId('67b144610cbb63f1dd2aaa35'), 'value': 7.348962660206623}\n",
      "{'timestamp': datetime.datetime(2025, 2, 16, 2, 50, 26, 597000), 'metadata': {'sensor': 's_temp_01'}, '_id': ObjectId('67b144620cbb63f1dd2aaa36'), 'value': 7.63158887741768}\n",
      "{'timestamp': datetime.datetime(2025, 2, 16, 2, 50, 27, 635000), 'metadata': {'sensor': 's_temp_01'}, '_id': ObjectId('67b144630cbb63f1dd2aaa37'), 'value': 7.207342637088064}\n",
      "{'timestamp': datetime.datetime(2025, 2, 16, 2, 50, 28, 652000), 'metadata': {'sensor': 's_temp_01'}, '_id': ObjectId('67b144640cbb63f1dd2aaa38'), 'value': 6.962852929871311}\n",
      "{'timestamp': datetime.datetime(2025, 2, 16, 2, 50, 29, 673000), 'metadata': {'sensor': 's_temp_01'}, '_id': ObjectId('67b144650cbb63f1dd2aaa39'), 'value': 6.639521673492604}\n",
      "{'timestamp': datetime.datetime(2025, 2, 16, 2, 50, 30, 715000), 'metadata': {'sensor': 's_temp_01'}, '_id': ObjectId('67b144660cbb63f1dd2aaa3a'), 'value': 7.134529485131255}\n",
      "{'timestamp': datetime.datetime(2025, 2, 16, 2, 50, 31, 758000), 'metadata': {'sensor': 's_temp_01'}, '_id': ObjectId('67b144670cbb63f1dd2aaa3b'), 'value': 6.747091802049451}\n",
      "{'timestamp': datetime.datetime(2025, 2, 16, 2, 50, 32, 792000), 'metadata': {'sensor': 's_temp_01'}, '_id': ObjectId('67b144680cbb63f1dd2aaa3c'), 'value': 6.949353892649373}\n",
      "{'timestamp': datetime.datetime(2025, 2, 16, 2, 50, 33, 833000), 'metadata': {'sensor': 's_temp_01'}, '_id': ObjectId('67b144690cbb63f1dd2aaa3d'), 'value': 7.247017425482135}\n",
      "{'timestamp': datetime.datetime(2025, 2, 16, 2, 50, 34, 865000), 'metadata': {'sensor': 's_temp_01'}, '_id': ObjectId('67b1446a0cbb63f1dd2aaa3e'), 'value': 7.73218917309623}\n",
      "{'timestamp': datetime.datetime(2025, 2, 16, 2, 50, 35, 904000), 'metadata': {'sensor': 's_temp_01'}, '_id': ObjectId('67b1446b0cbb63f1dd2aaa3f'), 'value': 7.58205388725611}\n",
      "{'timestamp': datetime.datetime(2025, 2, 16, 2, 50, 36, 947000), 'metadata': {'sensor': 's_temp_01'}, '_id': ObjectId('67b1446c0cbb63f1dd2aaa40'), 'value': 7.63981289470362}\n",
      "{'timestamp': datetime.datetime(2025, 2, 16, 2, 50, 37, 978000), 'metadata': {'sensor': 's_temp_01'}, '_id': ObjectId('67b1446d0cbb63f1dd2aaa41'), 'value': 7.454096548170234}\n",
      "{'timestamp': datetime.datetime(2025, 2, 16, 2, 50, 38, 999000), 'metadata': {'sensor': 's_temp_01'}, '_id': ObjectId('67b1446e0cbb63f1dd2aaa42'), 'value': 7.875921942496402}\n",
      "{'timestamp': datetime.datetime(2025, 2, 16, 2, 50, 40, 42000), 'metadata': {'sensor': 's_temp_01'}, '_id': ObjectId('67b144700cbb63f1dd2aaa43'), 'value': 7.543515453366346}\n",
      "{'timestamp': datetime.datetime(2025, 2, 16, 2, 50, 41, 59000), 'metadata': {'sensor': 's_temp_01'}, '_id': ObjectId('67b144710cbb63f1dd2aaa44'), 'value': 8.035131273730666}\n",
      "{'timestamp': datetime.datetime(2025, 2, 16, 2, 50, 42, 94000), 'metadata': {'sensor': 's_temp_01'}, '_id': ObjectId('67b144720cbb63f1dd2aaa45'), 'value': 7.90481870635543}\n",
      "{'timestamp': datetime.datetime(2025, 2, 16, 2, 50, 43, 134000), 'metadata': {'sensor': 's_temp_01'}, '_id': ObjectId('67b144730cbb63f1dd2aaa46'), 'value': 7.61936147233308}\n",
      "{'timestamp': datetime.datetime(2025, 2, 16, 2, 50, 44, 164000), 'metadata': {'sensor': 's_temp_01'}, '_id': ObjectId('67b144740cbb63f1dd2aaa47'), 'value': 7.780485362806651}\n",
      "{'timestamp': datetime.datetime(2025, 2, 16, 2, 50, 45, 205000), 'metadata': {'sensor': 's_temp_01'}, '_id': ObjectId('67b144750cbb63f1dd2aaa48'), 'value': 8.091976004473262}\n",
      "{'timestamp': datetime.datetime(2025, 2, 16, 2, 50, 46, 248000), 'metadata': {'sensor': 's_temp_01'}, '_id': ObjectId('67b144760cbb63f1dd2aaa49'), 'value': 7.796738131898196}\n",
      "{'timestamp': datetime.datetime(2025, 2, 16, 2, 50, 47, 285000), 'metadata': {'sensor': 's_temp_01'}, '_id': ObjectId('67b144770cbb63f1dd2aaa4a'), 'value': 7.362641354269703}\n",
      "{'timestamp': datetime.datetime(2025, 2, 16, 2, 50, 48, 303000), 'metadata': {'sensor': 's_temp_01'}, '_id': ObjectId('67b144780cbb63f1dd2aaa4b'), 'value': 7.168737430397996}\n",
      "{'timestamp': datetime.datetime(2025, 2, 16, 2, 50, 49, 343000), 'metadata': {'sensor': 's_temp_01'}, '_id': ObjectId('67b144790cbb63f1dd2aaa4c'), 'value': 7.506884275736973}\n",
      "{'timestamp': datetime.datetime(2025, 2, 16, 2, 50, 50, 382000), 'metadata': {'sensor': 's_temp_01'}, '_id': ObjectId('67b1447a0cbb63f1dd2aaa4d'), 'value': 7.542847744080693}\n",
      "{'timestamp': datetime.datetime(2025, 2, 16, 2, 50, 51, 406000), 'metadata': {'sensor': 's_temp_01'}, '_id': ObjectId('67b1447b0cbb63f1dd2aaa4e'), 'value': 7.296420679228629}\n",
      "{'timestamp': datetime.datetime(2025, 2, 16, 2, 50, 52, 437000), 'metadata': {'sensor': 's_temp_01'}, '_id': ObjectId('67b1447c0cbb63f1dd2aaa4f'), 'value': 7.45439690269859}\n",
      "{'timestamp': datetime.datetime(2025, 2, 16, 2, 50, 53, 468000), 'metadata': {'sensor': 's_temp_01'}, '_id': ObjectId('67b1447d0cbb63f1dd2aaa50'), 'value': 7.199919058971583}\n",
      "{'timestamp': datetime.datetime(2025, 2, 16, 2, 50, 54, 506000), 'metadata': {'sensor': 's_temp_01'}, '_id': ObjectId('67b1447e0cbb63f1dd2aaa51'), 'value': 7.117037813845601}\n",
      "{'timestamp': datetime.datetime(2025, 2, 16, 2, 50, 55, 547000), 'metadata': {'sensor': 's_temp_01'}, '_id': ObjectId('67b1447f0cbb63f1dd2aaa52'), 'value': 7.017313736840314}\n",
      "{'timestamp': datetime.datetime(2025, 2, 16, 2, 50, 56, 576000), 'metadata': {'sensor': 's_temp_01'}, '_id': ObjectId('67b144800cbb63f1dd2aaa53'), 'value': 6.912491096963563}\n",
      "{'timestamp': datetime.datetime(2025, 2, 16, 2, 50, 57, 610000), 'metadata': {'sensor': 's_temp_01'}, '_id': ObjectId('67b144810cbb63f1dd2aaa54'), 'value': 6.558670938259154}\n",
      "{'timestamp': datetime.datetime(2025, 2, 16, 2, 50, 58, 646000), 'metadata': {'sensor': 's_temp_01'}, '_id': ObjectId('67b144820cbb63f1dd2aaa55'), 'value': 6.125518182002942}\n",
      "{'timestamp': datetime.datetime(2025, 2, 16, 2, 50, 59, 662000), 'metadata': {'sensor': 's_temp_01'}, '_id': ObjectId('67b144830cbb63f1dd2aaa56'), 'value': 6.4722954948484155}\n"
     ]
    }
   ],
   "source": [
    "for record in results:\n",
    "    print(record)"
   ]
  },
  {
   "cell_type": "code",
   "execution_count": 67,
   "id": "5018582e-7fd1-497b-85c3-83c6cab60d4f",
   "metadata": {},
   "outputs": [],
   "source": [
    "client.close()"
   ]
  }
 ],
 "metadata": {
  "kernelspec": {
   "display_name": "Python 3 (ipykernel)",
   "language": "python",
   "name": "python3"
  },
  "language_info": {
   "codemirror_mode": {
    "name": "ipython",
    "version": 3
   },
   "file_extension": ".py",
   "mimetype": "text/x-python",
   "name": "python",
   "nbconvert_exporter": "python",
   "pygments_lexer": "ipython3",
   "version": "3.12.7"
  }
 },
 "nbformat": 4,
 "nbformat_minor": 5
}
