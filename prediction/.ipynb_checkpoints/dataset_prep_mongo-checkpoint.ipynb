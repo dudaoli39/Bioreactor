{
 "cells": [
  {
   "cell_type": "markdown",
   "id": "0bc0dbaa-2b9b-42fd-8323-33902bc738b1",
   "metadata": {},
   "source": [
    "MERGE ALL COLLECTIONS CREATED BY THE BIOREACTOR INTO A SINGLE FILE FOR LSTM TRAINING<BR>\n",
    "THE DATASETS WHERE PREVIOUSLY CLEANED TO SHOW A SINGLE BIOREACTOR <BR>"
   ]
  },
  {
   "cell_type": "code",
   "execution_count": 1,
   "id": "7acfed42-17ab-47f1-9239-a1c729d4a8c0",
   "metadata": {},
   "outputs": [],
   "source": [
    "import json\n",
    "from pymongo import MongoClient"
   ]
  },
  {
   "cell_type": "markdown",
   "id": "eee8b17b-84e9-481d-b506-b5578b64be1a",
   "metadata": {},
   "source": [
    "CONNECTING TO MONGODB"
   ]
  },
  {
   "cell_type": "code",
   "execution_count": 2,
   "id": "7ac2b7d9-0ae0-49bb-9119-c9db935d9b29",
   "metadata": {},
   "outputs": [],
   "source": [
    "connections_file = open(\"reactor_config/connections.json\", \"r\")\n",
    "connections = json.load(connections_file)"
   ]
  },
  {
   "cell_type": "code",
   "execution_count": 3,
   "id": "cc02c577-6bcf-4a78-a8e9-5b91d23ad391",
   "metadata": {},
   "outputs": [],
   "source": [
    "# Connect to MongoDB\n",
    "client = MongoClient(connections[\"SERVER\"])"
   ]
  },
  {
   "cell_type": "code",
   "execution_count": 4,
   "id": "f71712d2-a3e1-410a-b851-8fee3956a83e",
   "metadata": {},
   "outputs": [],
   "source": [
    "# Select the database and collection\n",
    "db = client[connections[\"DATABASE\"]]"
   ]
  },
  {
   "cell_type": "markdown",
   "id": "b7ec0ea9-6dab-4376-859d-baa13328ec39",
   "metadata": {},
   "source": [
    "READING THE DESIRED COLLECTION"
   ]
  },
  {
   "cell_type": "code",
   "execution_count": 5,
   "id": "1760f193-34fd-4c32-ae57-92904fe1fe04",
   "metadata": {},
   "outputs": [],
   "source": [
    "collectionT = db[\"temperature\"]\n",
    "collectionP = db[\"pressure\"]\n",
    "collectionH = db[\"humidity\"]\n",
    "collectionO = db[\"oxigen\"]"
   ]
  },
  {
   "cell_type": "code",
   "execution_count": 6,
   "id": "11c9a874-fadd-4a5f-bf91-fa03f8725148",
   "metadata": {},
   "outputs": [],
   "source": [
    "# Retrieve all documents\n",
    "documentT = collectionT.find()\n",
    "documentP = collectionP.find()\n",
    "documentH = collectionH.find()\n",
    "documentO = collectionO.find()"
   ]
  },
  {
   "cell_type": "markdown",
   "id": "e2569619-8d52-4130-9c30-5b71bc5a63b5",
   "metadata": {},
   "source": [
    "READING ALL FILES AND MERGING THE DESIRED DATA"
   ]
  },
  {
   "cell_type": "code",
   "execution_count": 7,
   "id": "8a304c2d-9400-48fa-b054-8970eb4671cf",
   "metadata": {},
   "outputs": [],
   "source": [
    "fileMerged = open(\"datasets/merged.csv\", \"w\")"
   ]
  },
  {
   "cell_type": "code",
   "execution_count": 8,
   "id": "d5c42b39-c0ee-45f7-a324-2604f43145ca",
   "metadata": {},
   "outputs": [],
   "source": [
    "fileMerged.write('date,temperature,pressure,humidity,oxigen\\n')\n",
    "fileMerged.flush()"
   ]
  },
  {
   "cell_type": "code",
   "execution_count": 9,
   "id": "7f9e96db-e539-441c-9f42-8a323e33efb4",
   "metadata": {},
   "outputs": [],
   "source": [
    "# Print documents\n",
    "for docT, docP, docH, docO in zip(documentT, documentP, documentH, documentO):\n",
    "    line = str(docT[\"timestamp\"])+\",\"+str(docT[\"value\"])+\",\"+str(docP[\"value\"])+\",\"+str(docH[\"value\"])+\",\"+str(docO[\"value\"])+\"\\n\"\n",
    "    fileMerged.write(line)\n",
    "    fileMerged.flush()\n"
   ]
  },
  {
   "cell_type": "code",
   "execution_count": 10,
   "id": "ba7e3409-ca1b-42f8-a7ad-a8949ade59a4",
   "metadata": {},
   "outputs": [],
   "source": [
    "client.close()"
   ]
  },
  {
   "cell_type": "code",
   "execution_count": 11,
   "id": "69471a73-af89-41fc-ad3c-368a29600784",
   "metadata": {},
   "outputs": [],
   "source": [
    "fileMerged.close()"
   ]
  },
  {
   "cell_type": "code",
   "execution_count": null,
   "id": "c80e40c1-b71d-4296-824d-61209a144412",
   "metadata": {},
   "outputs": [],
   "source": []
  }
 ],
 "metadata": {
  "kernelspec": {
   "display_name": "vprediction",
   "language": "python",
   "name": "vprediction"
  },
  "language_info": {
   "codemirror_mode": {
    "name": "ipython",
    "version": 3
   },
   "file_extension": ".py",
   "mimetype": "text/x-python",
   "name": "python",
   "nbconvert_exporter": "python",
   "pygments_lexer": "ipython3",
   "version": "3.12.7"
  }
 },
 "nbformat": 4,
 "nbformat_minor": 5
}
